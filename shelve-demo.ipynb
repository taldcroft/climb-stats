{
 "cells": [
  {
   "cell_type": "markdown",
   "metadata": {},
   "source": [
    "# Python `shelve` standard library\n",
    "\n",
    "https://docs.python.org/3/library/shelve.html\n",
    "\n",
    "A “shelf” is a persistent, dictionary-like object. The difference with “dbm” databases\n",
    "is that the values (not the keys!) in a shelf can be essentially arbitrary Python\n",
    "objects — anything that the pickle module can handle. This includes most class\n",
    "instances, recursive data types, and objects containing lots of shared sub-objects. The\n",
    "keys are ordinary strings.\n",
    "\n",
    "## Takeaway\n",
    "\n",
    "There are real limitations for `shelve` (see below). This is a fine thing for small\n",
    "single-user projects but it is not a good idea for any production-level tasks. At that\n",
    "point you need to level-up and use a real database like SQL Alchemy (for an object\n",
    "relational mapper) or SQLite (traditional SQL).\n"
   ]
  },
  {
   "cell_type": "code",
   "execution_count": 1,
   "metadata": {},
   "outputs": [],
   "source": [
    "import shelve\n",
    "from pathlib import Path\n",
    "from pprint import pprint\n",
    "from astropy.table.table_helpers import simple_table"
   ]
  },
  {
   "cell_type": "code",
   "execution_count": 2,
   "metadata": {},
   "outputs": [],
   "source": [
    "filepath = Path(\"random_stuff.db\")\n",
    "if filepath.exists():\n",
    "    filepath.unlink()"
   ]
  },
  {
   "cell_type": "code",
   "execution_count": 3,
   "metadata": {},
   "outputs": [
    {
     "data": {
      "text/html": [
       "<div><i>Table length=3</i>\n",
       "<table id=\"table4518445136\" class=\"table-striped table-bordered table-condensed\">\n",
       "<thead><tr><th>a</th><th>b</th><th>c</th></tr></thead>\n",
       "<thead><tr><th>int64</th><th>float64</th><th>str1</th></tr></thead>\n",
       "<tr><td>1</td><td>1.0</td><td>c</td></tr>\n",
       "<tr><td>2</td><td>2.0</td><td>d</td></tr>\n",
       "<tr><td>3</td><td>3.0</td><td>e</td></tr>\n",
       "</table></div>"
      ],
      "text/plain": [
       "<Table length=3>\n",
       "  a      b     c  \n",
       "int64 float64 str1\n",
       "----- ------- ----\n",
       "    1     1.0    c\n",
       "    2     2.0    d\n",
       "    3     3.0    e"
      ]
     },
     "execution_count": 3,
     "metadata": {},
     "output_type": "execute_result"
    }
   ],
   "source": [
    "t = simple_table()\n",
    "t"
   ]
  },
  {
   "cell_type": "code",
   "execution_count": 4,
   "metadata": {},
   "outputs": [],
   "source": [
    "with shelve.open(\"random_stuff\") as data:\n",
    "    data[\"key1\"] = \"value\"\n",
    "    data[\"key2\"] = {\"a\": 1, 1: [2, 3, 4]}\n",
    "    data[\"table\"] = t"
   ]
  },
  {
   "cell_type": "code",
   "execution_count": 5,
   "metadata": {},
   "outputs": [],
   "source": [
    "def read_shelve(filename):\n",
    "    with shelve.open(filename) as data:\n",
    "        out = dict(data)\n",
    "    return out"
   ]
  },
  {
   "cell_type": "code",
   "execution_count": 6,
   "metadata": {},
   "outputs": [
    {
     "data": {
      "text/plain": [
       "{'key1': 'value',\n",
       " 'table': <Table length=3>\n",
       "   a      b     c  \n",
       " int64 float64 str1\n",
       " ----- ------- ----\n",
       "     1     1.0    c\n",
       "     2     2.0    d\n",
       "     3     3.0    e,\n",
       " 'key2': {'a': 1, 1: [2, 3, 4]}}"
      ]
     },
     "execution_count": 6,
     "metadata": {},
     "output_type": "execute_result"
    }
   ],
   "source": [
    "data_rt = read_shelve(\"random_stuff\")\n",
    "data_rt"
   ]
  },
  {
   "cell_type": "code",
   "execution_count": 7,
   "metadata": {},
   "outputs": [],
   "source": [
    "def add_key_value(filename, key, value):\n",
    "    with shelve.open(filename) as data:\n",
    "        data[key] = value"
   ]
  },
  {
   "cell_type": "code",
   "execution_count": 8,
   "metadata": {},
   "outputs": [
    {
     "data": {
      "text/plain": [
       "{'key1': 'value',\n",
       " 'table': <Table length=3>\n",
       "   a      b     c  \n",
       " int64 float64 str1\n",
       " ----- ------- ----\n",
       "     1     1.0    c\n",
       "     2     2.0    d\n",
       "     3     3.0    e,\n",
       " 'key3': 'value3',\n",
       " 'key2': {'a': 1, 1: [2, 3, 4]}}"
      ]
     },
     "execution_count": 8,
     "metadata": {},
     "output_type": "execute_result"
    }
   ],
   "source": [
    "add_key_value(\"random_stuff\", \"key3\", \"value3\")\n",
    "read_shelve(\"random_stuff\")"
   ]
  },
  {
   "cell_type": "markdown",
   "metadata": {},
   "source": [
    "## BEWARE!\n",
    "\n",
    "- Warning Because the shelve module is backed by pickle, it is insecure to load a shelf\n",
    "  from an untrusted source. Like with pickle, loading a shelf can execute arbitrary code.\n",
    "\n",
    "- The shelve module does not support concurrent read/write access to shelved objects. (Multiple simultaneous read accesses are safe.) When a program has a shelf open for writing, no other program should have it open for reading or writing.\n",
    "\n",
    "- On macOS dbm.ndbm can silently corrupt the database file on updates, **which can cause hard crashes when trying to read from the database.**\n",
    "\n",
    "This last issue is scary and it seems to be a bit unpredictable, but apparently things\n",
    "should be OK for key value size below about 4k bytes.\n",
    "\n",
    "I tried installing `gdbm` which in theory should fix the MacOS issue but this does not\n",
    "install `_gdbm` which is what is needed for `dbm.gnu` to import. A lot of googling did\n",
    "not help me.\n"
   ]
  },
  {
   "cell_type": "code",
   "execution_count": 9,
   "metadata": {},
   "outputs": [
    {
     "name": "stdout",
     "output_type": "stream",
     "text": [
      "1\n",
      "257\n",
      "513\n",
      "769\n",
      "1025\n",
      "1281\n",
      "1537\n",
      "1793\n",
      "2049\n",
      "2305\n",
      "2561\n",
      "2817\n",
      "3073\n",
      "3329\n",
      "3585\n",
      "3841\n",
      "4097\n",
      "4353\n",
      "4609\n",
      "4865\n",
      "5121\n",
      "5377\n",
      "5633\n",
      "5889\n",
      "6145\n",
      "6401\n",
      "6657\n",
      "6913\n"
     ]
    },
    {
     "ename": "SystemError",
     "evalue": "Negative size passed to PyBytes_FromStringAndSize",
     "output_type": "error",
     "traceback": [
      "\u001b[0;31m---------------------------------------------------------------------------\u001b[0m",
      "\u001b[0;31mSystemError\u001b[0m                               Traceback (most recent call last)",
      "Cell \u001b[0;32mIn[9], line 6\u001b[0m\n\u001b[1;32m      4\u001b[0m value \u001b[38;5;241m=\u001b[39m \u001b[38;5;124m\"\u001b[39m\u001b[38;5;124m*\u001b[39m\u001b[38;5;124m\"\u001b[39m \u001b[38;5;241m*\u001b[39m size\n\u001b[1;32m      5\u001b[0m add_key_value(\u001b[38;5;124m\"\u001b[39m\u001b[38;5;124mrandom_stuff\u001b[39m\u001b[38;5;124m\"\u001b[39m, key, value)\n\u001b[0;32m----> 6\u001b[0m data_rt \u001b[38;5;241m=\u001b[39m read_shelve(\u001b[38;5;124m\"\u001b[39m\u001b[38;5;124mrandom_stuff\u001b[39m\u001b[38;5;124m\"\u001b[39m)\n",
      "Cell \u001b[0;32mIn[5], line 3\u001b[0m, in \u001b[0;36mread_shelve\u001b[0;34m(filename)\u001b[0m\n\u001b[1;32m      1\u001b[0m \u001b[38;5;28;01mdef\u001b[39;00m \u001b[38;5;21mread_shelve\u001b[39m(filename):\n\u001b[1;32m      2\u001b[0m     \u001b[38;5;28;01mwith\u001b[39;00m shelve\u001b[38;5;241m.\u001b[39mopen(filename) \u001b[38;5;28;01mas\u001b[39;00m data:\n\u001b[0;32m----> 3\u001b[0m         out \u001b[38;5;241m=\u001b[39m \u001b[38;5;28mdict\u001b[39m(data)\n\u001b[1;32m      4\u001b[0m     \u001b[38;5;28;01mreturn\u001b[39;00m out\n",
      "File \u001b[0;32m<frozen _collections_abc>:869\u001b[0m, in \u001b[0;36m__iter__\u001b[0;34m(self)\u001b[0m\n",
      "File \u001b[0;32m~/miniconda3-arm/envs/climb/lib/python3.12/shelve.py:95\u001b[0m, in \u001b[0;36mShelf.__iter__\u001b[0;34m(self)\u001b[0m\n\u001b[1;32m     94\u001b[0m \u001b[38;5;28;01mdef\u001b[39;00m \u001b[38;5;21m__iter__\u001b[39m(\u001b[38;5;28mself\u001b[39m):\n\u001b[0;32m---> 95\u001b[0m     \u001b[38;5;28;01mfor\u001b[39;00m k \u001b[38;5;129;01min\u001b[39;00m \u001b[38;5;28mself\u001b[39m\u001b[38;5;241m.\u001b[39mdict\u001b[38;5;241m.\u001b[39mkeys():\n\u001b[1;32m     96\u001b[0m         \u001b[38;5;28;01myield\u001b[39;00m k\u001b[38;5;241m.\u001b[39mdecode(\u001b[38;5;28mself\u001b[39m\u001b[38;5;241m.\u001b[39mkeyencoding)\n",
      "\u001b[0;31mSystemError\u001b[0m: Negative size passed to PyBytes_FromStringAndSize"
     ]
    }
   ],
   "source": [
    "for size in range(1, 64 * 256, 256):\n",
    "    print(size)\n",
    "    key = f\"key{size}\"\n",
    "    value = \"*\" * size\n",
    "    add_key_value(\"random_stuff\", key, value)\n",
    "    data_rt = read_shelve(\"random_stuff\")"
   ]
  }
 ],
 "metadata": {
  "kernelspec": {
   "display_name": "climb",
   "language": "python",
   "name": "python3"
  },
  "language_info": {
   "codemirror_mode": {
    "name": "ipython",
    "version": 3
   },
   "file_extension": ".py",
   "mimetype": "text/x-python",
   "name": "python",
   "nbconvert_exporter": "python",
   "pygments_lexer": "ipython3",
   "version": "3.12.3"
  }
 },
 "nbformat": 4,
 "nbformat_minor": 2
}
