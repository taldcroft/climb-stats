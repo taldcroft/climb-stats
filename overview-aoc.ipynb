{
 "cells": [
  {
   "cell_type": "markdown",
   "metadata": {},
   "source": [
    "# Climbing database project\n",
    "\n",
    "### Project goal \n",
    "Extract usable data from 15 years of climbing logs and do some basic analysis.\n",
    "\n",
    "### Learning goals\n",
    "- Getting a table out of a Google sheet.\n",
    "- Data model design and intro to using `dataclasses` to implement the data model.\n",
    "  - See https://www.youtube.com/watch?v=vRVVyl9uaZc for a nice intro.\n",
    "- Data persistence and benefits/limitations of the Python `shelve` library package.\n",
    "- Efficiently extracting information from natural-language text without using anything fancy.\n",
    "- Type annotations in Python and how they help you write better code more quickly (esp. paired with Copilot).\n",
    "  - See https://www.youtube.com/watch?v=dgBCEB2jVU0&t=189s for a nice intro.\n",
    "- Making a fancy histogram plot with matplotlib."
   ]
  },
  {
   "cell_type": "markdown",
   "metadata": {},
   "source": [
    "## Raw data: Google sheets\n",
    "\n",
    "Our climbing database is a google spreadsheet with one sheet (table) per year going back\n",
    "to 2009.\n",
    "\n",
    "Each sheet has one row per climbing day with columns Date, Place/Climbers, and Log.\n",
    "For historical reasons these are called \"Date\", \"Climb\", and \"Comments\". Example:\n",
    "```\n",
    "Date: 2024-04-26\n",
    "Climb: TA AS Rumney (Tom and Aneta climbed at Rumney)\n",
    "Comments: Armed, Obi (AS), Jedi Mind Tricks (TA working moves),\n",
    "  Centerpiece (AS 2xlead 2h, TA redpoint), Social O (TA,  AS to the top with 2 hangs)\n",
    "```\n",
    "The comments include information on climbs but are often free-form. Ideally they are\n",
    "comma-separated lists of climbs with informative comments. In practice the comments\n",
    "are full of typos, inconsistencies and shorthand.\n",
    "\n",
    "`Armed` is short for `Armed, Dangerous, and Off My Medication`. \n",
    "`AS 2xlead 2h, TA redpoint` means that Aneta lead the climb twice but had to hang on the\n",
    "rope both times. Tom did that climb cleanly without hanging on the rope.\n",
    "\n",
    "The comments can be even harder to parse (especially for older entries):\n",
    "```\n",
    "Nice day but HOT in the end (in the sun).  TA feeling stronger, two tries on\n",
    "Orangahang (still close, felt really good on second run but got stuck making last\n",
    "clip).  AS did Masterpiece 10a and Tropicana (in blazing sun).\n",
    "```"
   ]
  },
  {
   "cell_type": "markdown",
   "metadata": {},
   "source": [
    "### Reading a table from Google sheets\n",
    "\n",
    "If you open a Google sheets document, you will see a URL like:\n",
    "```\n",
    "https://docs.google.com/spreadsheets/d/1gnVwOr_t_9ABWPKxK0DyoRhoksbb2ttaWf6u62aWeo4/edit#gid=0\n",
    "```\n",
    "- The long string after the `spreadsheets/d` is the `doc_id`.\n",
    "- The `gid=...` is the `gid`\n",
    "\n",
    "The code below will read this into an astropy `Table`.\n",
    "\n",
    "#### Caveat\n",
    "\n",
    "This requires setting the sharing of the document to *Anyone on the internet with the\n",
    "link can view*. In general this is safe enough because the `doc_id` is not guessable,\n",
    "but if your code is shared publicly then you should ensure the `doc_id` stays private\n",
    "(if the data are sensitive in any way).\n",
    "\n",
    "In this project there is a module `doc_ids.py` that is only local and not in the \n",
    "GitHub repo.\n"
   ]
  },
  {
   "cell_type": "code",
   "execution_count": 1,
   "metadata": {},
   "outputs": [
    {
     "data": {
      "text/html": [
       "<div><i>Table length=3</i>\n",
       "<table id=\"table4910482160\" class=\"table-striped table-bordered table-condensed\">\n",
       "<thead><tr><th>Date</th><th>Climb</th><th>Comments</th></tr></thead>\n",
       "<thead><tr><th>str10</th><th>str25</th><th>str52</th></tr></thead>\n",
       "<tr><td>2024-04-20</td><td>TA AS Rumney</td><td>Armed, Obi (AS), Jedi Mind Tricks (TA working moves)</td></tr>\n",
       "<tr><td>2024-04-26</td><td>TA Rumney w/ Nancy, Keith</td><td>Metamorphasis, Sesame, Armed</td></tr>\n",
       "<tr><td>2024-04-28</td><td>AS TakTak</td><td>Endurance: V2, V2, V1 boulders in the cave</td></tr>\n",
       "</table></div>"
      ],
      "text/plain": [
       "<Table length=3>\n",
       "   Date    ...                       Comments                      \n",
       "  str10    ...                        str52                        \n",
       "---------- ... ----------------------------------------------------\n",
       "2024-04-20 ... Armed, Obi (AS), Jedi Mind Tricks (TA working moves)\n",
       "2024-04-26 ...                         Metamorphasis, Sesame, Armed\n",
       "2024-04-28 ...           Endurance: V2, V2, V1 boulders in the cave"
      ]
     },
     "execution_count": 1,
     "metadata": {},
     "output_type": "execute_result"
    }
   ],
   "source": [
    "import functools\n",
    "import requests\n",
    "from astropy.table import Table\n",
    "\n",
    "# See https://stackoverflow.com/questions/33713084 (2nd answer)\n",
    "GOOGLE_SHEET_URL = (\n",
    "    \"https://docs.google.com/spreadsheets/d/{doc_id}/export?\"\n",
    "    \"format=csv\"\n",
    "    \"&id={doc_id}\"\n",
    "    \"&gid={gid}\"\n",
    ")\n",
    "\n",
    "\n",
    "@functools.lru_cache(maxsize=1)\n",
    "def read_google_sheet(doc_id: str, gid: str) -> Table:\n",
    "    url = GOOGLE_SHEET_URL.format(doc_id=doc_id, gid=gid)\n",
    "    req = requests.get(url, timeout=30)\n",
    "    if req.status_code != 200:\n",
    "        raise ValueError(f\"Failed to get google sheet: {req.status_code}\")\n",
    "\n",
    "    out = Table.read(req.text, format=\"csv\", fill_values=[])\n",
    "    return out\n",
    "\n",
    "\n",
    "doc_id = \"1gnVwOr_t_9ABWPKxK0DyoRhoksbb2ttaWf6u62aWeo4\"\n",
    "gid = \"0\"\n",
    "table = read_google_sheet(doc_id, gid)\n",
    "table[-5:]"
   ]
  },
  {
   "cell_type": "markdown",
   "metadata": {},
   "source": [
    "## Data model overview\n",
    "\n",
    "The first part of any project like this is deciding on a data model for representing the\n",
    "data.\n",
    "\n",
    "### Route information\n",
    "The data model starts with a database of route information: list of route names and grade.\n",
    "The route information is independent of our climbing on them.\n",
    "\n",
    "### Our climbs on the routes\n",
    "This is hierarchical:\n",
    "\n",
    "List of climbing days (`ClimbingDay`): we went climbing on a certain day.\n",
    "\n",
    "`ClimbingDay`: A day of climbing from the log (i.e. one row in the sheet) with the \n",
    "`date`, `place/climbers`, and `comments` from the sheet. In addtion this a list of \n",
    "`ClimbEntry` objects that get parsed from the `comments`.\n",
    "\n",
    "`ClimbEntry`: One particular route in `comments` where there may be multiple ascents (or\n",
    "attempts) of the route by one or both of Tom/Aneta. E.g. `Centerpiece (AS 2xlead 2h, TA\n",
    "redpoint)`. This data class includes route information and a list of `ClimbEvent`.\n",
    "\n",
    "`ClimbEvent`: One person doing one ascent or attempt of a route.\n",
    "\n",
    "### Implementation: dataclasses\n",
    "\n",
    "This is done in `core.py` -- let's take a look!"
   ]
  },
  {
   "cell_type": "markdown",
   "metadata": {},
   "source": [
    "## Data persistence\n",
    "\n",
    "A database provides a method for `data persistence`, i.e. ensuring that data which gets\n",
    "entered into a program (and is in memory) is available at a later time.\n",
    "\n",
    "There are many ways in Python to implement data persistence. For this project I choose\n",
    "a simple and lazy way using the `shelve` module. I don't recommend this for production\n",
    "projects but in this case it made the coding simple and fast."
   ]
  },
  {
   "cell_type": "code",
   "execution_count": 2,
   "metadata": {},
   "outputs": [
    {
     "name": "stdout",
     "output_type": "stream",
     "text": [
      "Total of 91 climbs in the shelve\n",
      "['Big Easy', 'Holderness Arete', 'Holderness Corner', 'Idiot Deluxe', 'Med Dose Madness']\n",
      "ClimbInfo(name='Centerpiece', grade='10d', aliases=['Centerpiece'])\n"
     ]
    }
   ],
   "source": [
    "import shelve\n",
    "from pprint import pprint\n",
    "\n",
    "# We open the shelve with a context manager to ensure it is closed properly\n",
    "with shelve.open(\"climb_info\") as db:\n",
    "    print(f\"Total of {len(db)} climbs in the shelve\")\n",
    "    print(list(db.keys())[:5])\n",
    "    pprint(db[\"Centerpiece\"])"
   ]
  },
  {
   "cell_type": "code",
   "execution_count": 3,
   "metadata": {},
   "outputs": [
    {
     "name": "stdout",
     "output_type": "stream",
     "text": [
      "Total of 181 climbing days in the shelve\n",
      "['2021-10-01', '2021-10-02', '2021-11-11', '2022-10-21', '2022-10-22']\n",
      "ClimbingDay(date='2024-04-26',\n",
      "            log_text='Armed, Obi (AS), Jedi Mind Tricks (TA working moves), Centerpiece (AS 2xlead 2h, TA redpoint), Social O (TA,  AS to the top with 2 hangs)',\n",
      "            place_and_climbers='TA AS Rumney',\n",
      "            climb_entries=[ClimbEntry(name_approx='Armed',\n",
      "                                      comment='',\n",
      "                                      climbers=['TA', 'AS'],\n",
      "                                      climb_info=ClimbInfo(name='Armed & Dangerous',\n",
      "                                                           grade='10b',\n",
      "                                                           aliases=['Armed & Dangerous', 'Arm & Dangerous', 'Armed and Dangerous', 'Arm and Dangerous', 'Armed']),\n",
      "                                      climb_events=[ClimbEvent(climber='TA', hang=False), ClimbEvent(climber='AS', hang=False)],\n",
      "                                      idx_entry_start=0),\n",
      "                           ClimbEntry(name_approx='Obi',\n",
      "                                      comment='AS',\n",
      "                                      climbers=['TA', 'AS'],\n",
      "                                      climb_info=ClimbInfo(name='Obi-wan Ryobi', grade='9+', aliases=['Obi-wan Ryobi', 'Obi']),\n",
      "                                      climb_events=[ClimbEvent(climber='AS', hang=False)],\n",
      "                                      idx_entry_start=0),\n",
      "                           ClimbEntry(name_approx='Jedi Mind Tricks',\n",
      "                                      comment='TA working moves',\n",
      "                                      climbers=['TA', 'AS'],\n",
      "                                      climb_info=ClimbInfo(name='Jedi Mind Tricks', grade='12b', aliases=['Jedi Mind Tricks', 'Jedi Mind Tricks']),\n",
      "                                      climb_events=[ClimbEvent(climber='TA', hang=True)],\n",
      "                                      idx_entry_start=0),\n",
      "                           ClimbEntry(name_approx='Centerpiece',\n",
      "                                      comment='AS 2xlead 2h, TA redpoint',\n",
      "                                      climbers=['TA', 'AS'],\n",
      "                                      climb_info=ClimbInfo(name='Centerpiece', grade='10d', aliases=['Centerpiece']),\n",
      "                                      climb_events=[ClimbEvent(climber='TA', hang=False), ClimbEvent(climber='AS', hang=True), ClimbEvent(climber='AS', hang=True)],\n",
      "                                      idx_entry_start=0),\n",
      "                           ClimbEntry(name_approx='Social O',\n",
      "                                      comment='TA,  AS to the top with 2 hangs',\n",
      "                                      climbers=['TA', 'AS'],\n",
      "                                      climb_info=ClimbInfo(name='Social Outcast', grade='12a', aliases=['Social Outcast', 'Social', 'Social O']),\n",
      "                                      climb_events=[ClimbEvent(climber='TA', hang=False), ClimbEvent(climber='AS', hang=True)],\n",
      "                                      idx_entry_start=0)])\n"
     ]
    }
   ],
   "source": [
    "with shelve.open(\"climbing_days\") as db:\n",
    "    print(f\"Total of {len(db)} climbing days in the shelve\")\n",
    "    print(list(db.keys())[:5])\n",
    "    pprint(db[\"2024-04-26\"], width=200)"
   ]
  },
  {
   "cell_type": "markdown",
   "metadata": {},
   "source": [
    "## Data entry\n",
    "\n",
    "A key challenge here is extracting correct climbing entries, routes, and climb events \n",
    "from the free-format and often incomplete comments. There are a lot and this quickly\n",
    "gets tedious.\n",
    "\n",
    "My strategy was to make a custom data entry tool which does a few things:\n",
    "- Make a best effort at parsing each sheet comment and creating an initial `ClimbEntry`\n",
    "- Rely on the user to validate or correct the information.\n",
    "  - In practice about half the time the initial guess is OK\n",
    "- Mostly use single keypresses to speed the process. After some practice this is fast.\n",
    "\n",
    "In the end it takes about an hour to enter of year of data."
   ]
  },
  {
   "cell_type": "markdown",
   "metadata": {},
   "source": [
    "## Data analysis\n",
    "\n",
    "In the end we want to gain insight from the database! I've made a notebook that shows\n",
    "using the database."
   ]
  },
  {
   "cell_type": "markdown",
   "metadata": {},
   "source": []
  }
 ],
 "metadata": {
  "kernelspec": {
   "display_name": "climb",
   "language": "python",
   "name": "python3"
  },
  "language_info": {
   "codemirror_mode": {
    "name": "ipython",
    "version": 3
   },
   "file_extension": ".py",
   "mimetype": "text/x-python",
   "name": "python",
   "nbconvert_exporter": "python",
   "pygments_lexer": "ipython3",
   "version": "3.12.3"
  }
 },
 "nbformat": 4,
 "nbformat_minor": 2
}
