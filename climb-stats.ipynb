{
 "cells": [
  {
   "cell_type": "markdown",
   "metadata": {},
   "source": [
    "# Analysis of climbing data"
   ]
  },
  {
   "cell_type": "code",
   "execution_count": 1,
   "metadata": {},
   "outputs": [],
   "source": [
    "import calendar\n",
    "import collections\n",
    "import shelve\n",
    "from pprint import pprint\n",
    "\n",
    "import matplotlib.pyplot as plt\n",
    "import numpy as np\n",
    "from astropy.table import Table\n",
    "\n",
    "import core"
   ]
  },
  {
   "cell_type": "code",
   "execution_count": 2,
   "metadata": {},
   "outputs": [],
   "source": [
    "with shelve.open(\"climbing_days\") as data:\n",
    "    climbing_days: dict[str, core.ClimbingDay] = dict(data)"
   ]
  },
  {
   "cell_type": "code",
   "execution_count": 3,
   "metadata": {},
   "outputs": [
    {
     "data": {
      "text/plain": [
       "['2021-04-07',\n",
       " '2021-04-09',\n",
       " '2021-04-24',\n",
       " '2021-05-07',\n",
       " '2021-05-08',\n",
       " '2021-05-09',\n",
       " '2021-05-13',\n",
       " '2021-05-14',\n",
       " '2021-05-24',\n",
       " '2021-06-05']"
      ]
     },
     "execution_count": 3,
     "metadata": {},
     "output_type": "execute_result"
    }
   ],
   "source": [
    "sorted(climbing_days.keys())[:10]"
   ]
  },
  {
   "cell_type": "code",
   "execution_count": 4,
   "metadata": {},
   "outputs": [],
   "source": [
    "climbing_day = climbing_days[\"2024-04-09\"]"
   ]
  },
  {
   "cell_type": "code",
   "execution_count": 5,
   "metadata": {},
   "outputs": [
    {
     "data": {
      "text/plain": [
       "core.ClimbingDay"
      ]
     },
     "execution_count": 5,
     "metadata": {},
     "output_type": "execute_result"
    }
   ],
   "source": [
    "type(climbing_day)"
   ]
  },
  {
   "cell_type": "code",
   "execution_count": 6,
   "metadata": {},
   "outputs": [
    {
     "name": "stdout",
     "output_type": "stream",
     "text": [
      "ClimbEntry(name_approx='Restless Native',\n",
      "           comment='TA, first try in many years, stopped at low crux not very '\n",
      "                   'close, beta all wrong',\n",
      "           climbers=['TA', 'AS'],\n",
      "           climb_info=ClimbInfo(name='Restless Native',\n",
      "                                grade='12c',\n",
      "                                aliases=['Restless Native']),\n",
      "           climb_events=[ClimbEvent(climber='TA', hang=True)],\n",
      "           idx_entry_start=48)\n"
     ]
    }
   ],
   "source": [
    "pprint(climbing_days[\"2024-05-18\"].climb_entries[-1])"
   ]
  },
  {
   "cell_type": "code",
   "execution_count": 7,
   "metadata": {},
   "outputs": [
    {
     "data": {
      "text/plain": [
       "ClimbEvent(climber='TA', hang=True)"
      ]
     },
     "execution_count": 7,
     "metadata": {},
     "output_type": "execute_result"
    }
   ],
   "source": [
    "climbing_days[\"2024-05-18\"].climb_entries[-1].climb_events[0]"
   ]
  },
  {
   "cell_type": "code",
   "execution_count": 8,
   "metadata": {},
   "outputs": [],
   "source": [
    "import re\n",
    "from functools import cached_property\n",
    "\n",
    "\n",
    "class Grade:\n",
    "    def __init__(self, grade):\n",
    "        if isinstance(grade, str):\n",
    "            self.grade = grade\n",
    "        elif hasattr(grade, \"grade\") and isinstance(grade.grade, str):\n",
    "            self.grade = grade.grade\n",
    "        else:\n",
    "            raise ValueError(f\"Cannot convert {grade} to Grade object.\")\n",
    "\n",
    "    @cached_property\n",
    "    def number_mod(self) -> tuple[int, str]:\n",
    "        \"\"\"Convert grade like 12a/b to (12, \"a/b\") and 12+ to (12, \"c/d\").\n",
    "\n",
    "        This allows for easy comparison of grades.\n",
    "        \"\"\"\n",
    "        grade_str = self.grade\n",
    "        if grade_str.startswith(\"5.\"):\n",
    "            grade_str = grade_str[2:]\n",
    "        number, modifier = re.match(r\"(\\d+)([^\\d]*)\", grade_str).groups()\n",
    "        number = int(number)\n",
    "        if modifier == \"-\":\n",
    "            modifier = \"a/b\"\n",
    "        if modifier == \"+\":\n",
    "            modifier = \"c/d\"\n",
    "        return number, modifier\n",
    "\n",
    "    def __repr__(self):\n",
    "        return self.grade\n",
    "\n",
    "    def __hash__(self):\n",
    "        return hash(self.grade)\n",
    "\n",
    "    def __eq__(self, other):\n",
    "        return self.number_mod == Grade(other).number_mod\n",
    "\n",
    "    def __ne__(self, other):\n",
    "        return not self == other\n",
    "\n",
    "    def __le__(self, other):\n",
    "        return self.number_mod <= Grade(other).number_mod\n",
    "\n",
    "    def __gt__(self, other):\n",
    "        return not self <= other\n",
    "\n",
    "    def __lt__(self, other):\n",
    "        return self.number_mod < Grade(other).number_mod\n",
    "\n",
    "    def __ge__(self, other):\n",
    "        return not self < other"
   ]
  },
  {
   "cell_type": "code",
   "execution_count": 9,
   "metadata": {},
   "outputs": [
    {
     "name": "stdout",
     "output_type": "stream",
     "text": [
      "5.10-\n",
      "g1 < \"12a\" True\n",
      "\"12a\" < g1 False\n",
      "\"9+\" < g1 True\n",
      "\"9+\" < \"9-\" True\n",
      "Grade(\"9+\") < \"9-\" False\n"
     ]
    }
   ],
   "source": [
    "g1 = Grade(\"5.10-\")\n",
    "print(g1)\n",
    "g2 = Grade(\"5.10b\")\n",
    "print('g1 < \"12a\"', g1 < \"12a\")\n",
    "print('\"12a\" < g1', \"12a\" < g1)\n",
    "print('\"9+\" < g1', \"9+\" < g1)\n",
    "print('\"9+\" < \"9-\"', \"9+\" < \"9-\")\n",
    "print('Grade(\"9+\") < \"9-\"', Grade(\"9+\") < \"9-\")"
   ]
  },
  {
   "cell_type": "code",
   "execution_count": 10,
   "metadata": {},
   "outputs": [],
   "source": [
    "def get_climbs_table(climbing_days: dict[str, core.ClimbingDay]) -> Table:\n",
    "    \"\"\"Flatten climbing days hierarchical data structure to an astropy table.\"\"\"\n",
    "    rows = []\n",
    "    for date in climbing_days:\n",
    "        for entry in climbing_days[date].climb_entries:\n",
    "            for event in entry.climb_events:\n",
    "                rows.append(\n",
    "                    (\n",
    "                        date,\n",
    "                        entry.climb_info.name,\n",
    "                        Grade(entry.climb_info.grade),\n",
    "                        event.climber,\n",
    "                        \"\" if event.hang else \"✓\",\n",
    "                    )\n",
    "                )\n",
    "    climbs = Table(rows=rows, names=(\"date\", \"name\", \"grade\", \"climber\", \"send\"))\n",
    "    climbs.sort(\"date\")\n",
    "    climbs[\"year\"] = np.array([int(date.split(\"-\")[0]) for date in climbs[\"date\"]])\n",
    "    climbs[\"month\"] = np.array([int(date.split(\"-\")[1]) for date in climbs[\"date\"]])\n",
    "    climbs[\"grade_num\"] = np.array([grade.number_mod[0] for grade in climbs[\"grade\"]])\n",
    "\n",
    "    return climbs"
   ]
  },
  {
   "cell_type": "code",
   "execution_count": 11,
   "metadata": {},
   "outputs": [],
   "source": [
    "climbs = get_climbs_table(climbing_days)"
   ]
  },
  {
   "cell_type": "code",
   "execution_count": 12,
   "metadata": {},
   "outputs": [
    {
     "data": {
      "text/html": [
       "<div><i>Table length=1314</i>\n",
       "<table id=\"table5040241264\" class=\"table-striped table-bordered table-condensed\">\n",
       "<thead><tr><th>date</th><th>name</th><th>grade</th><th>climber</th><th>send</th><th>year</th><th>month</th><th>grade_num</th></tr></thead>\n",
       "<thead><tr><th>str10</th><th>str24</th><th>object</th><th>str2</th><th>str1</th><th>int64</th><th>int64</th><th>int64</th></tr></thead>\n",
       "<tr><td>2021-04-07</td><td>Holderness Arete</td><td>10b</td><td>TA</td><td>✓</td><td>2021</td><td>4</td><td>10</td></tr>\n",
       "<tr><td>2021-04-07</td><td>Idiot Deluxe</td><td>10c</td><td>AS</td><td>✓</td><td>2021</td><td>4</td><td>10</td></tr>\n",
       "<tr><td>2021-04-07</td><td>Idiot Deluxe</td><td>10c</td><td>TA</td><td>✓</td><td>2021</td><td>4</td><td>10</td></tr>\n",
       "<tr><td>2021-04-07</td><td>Holderness Arete</td><td>10b</td><td>AS</td><td>✓</td><td>2021</td><td>4</td><td>10</td></tr>\n",
       "<tr><td>2021-04-09</td><td>Masterpiece</td><td>10a</td><td>TA</td><td>✓</td><td>2021</td><td>4</td><td>10</td></tr>\n",
       "<tr><td>2021-04-09</td><td>Metamorphosis</td><td>8</td><td>AS</td><td>✓</td><td>2021</td><td>4</td><td>8</td></tr>\n",
       "<tr><td>2021-04-09</td><td>Men in White Suits</td><td>9</td><td>TA</td><td>✓</td><td>2021</td><td>4</td><td>9</td></tr>\n",
       "<tr><td>2021-04-09</td><td>Men in White Suits</td><td>9</td><td>AS</td><td>✓</td><td>2021</td><td>4</td><td>9</td></tr>\n",
       "<tr><td>2021-04-09</td><td>Masterpiece</td><td>10a</td><td>AS</td><td></td><td>2021</td><td>4</td><td>10</td></tr>\n",
       "<tr><td>2021-04-09</td><td>Metamorphosis</td><td>8</td><td>TA</td><td>✓</td><td>2021</td><td>4</td><td>8</td></tr>\n",
       "<tr><td>...</td><td>...</td><td>...</td><td>...</td><td>...</td><td>...</td><td>...</td><td>...</td></tr>\n",
       "<tr><td>2024-06-01</td><td>Tropicana</td><td>11a</td><td>AS</td><td>✓</td><td>2024</td><td>6</td><td>11</td></tr>\n",
       "<tr><td>2024-06-01</td><td>Tropicana</td><td>11a</td><td>TA</td><td>✓</td><td>2024</td><td>6</td><td>11</td></tr>\n",
       "<tr><td>2024-06-01</td><td>Weevil</td><td>12a</td><td>TA</td><td>✓</td><td>2024</td><td>6</td><td>12</td></tr>\n",
       "<tr><td>2024-06-01</td><td>Vallee Daze</td><td>12a</td><td>TA</td><td></td><td>2024</td><td>6</td><td>12</td></tr>\n",
       "<tr><td>2024-06-01</td><td>Black Dog Crack</td><td>10a</td><td>AS</td><td>✓</td><td>2024</td><td>6</td><td>10</td></tr>\n",
       "<tr><td>2024-06-01</td><td>Black Dog Crack</td><td>10a</td><td>TA</td><td>✓</td><td>2024</td><td>6</td><td>10</td></tr>\n",
       "<tr><td>2024-06-01</td><td>Sally&apos;s Alley</td><td>11c</td><td>AS</td><td></td><td>2024</td><td>6</td><td>11</td></tr>\n",
       "<tr><td>2024-06-01</td><td>10 of Spades</td><td>10c</td><td>TA</td><td>✓</td><td>2024</td><td>6</td><td>10</td></tr>\n",
       "<tr><td>2024-06-01</td><td>Tropicana</td><td>11a</td><td>AS</td><td></td><td>2024</td><td>6</td><td>11</td></tr>\n",
       "<tr><td>2024-06-01</td><td>10 of Spades</td><td>10c</td><td>AS</td><td></td><td>2024</td><td>6</td><td>10</td></tr>\n",
       "</table></div>"
      ],
      "text/plain": [
       "<Table length=1314>\n",
       "   date           name        grade  climber send  year month grade_num\n",
       "  str10          str24        object   str2  str1 int64 int64   int64  \n",
       "---------- ------------------ ------ ------- ---- ----- ----- ---------\n",
       "2021-04-07   Holderness Arete    10b      TA    ✓  2021     4        10\n",
       "2021-04-07       Idiot Deluxe    10c      AS    ✓  2021     4        10\n",
       "2021-04-07       Idiot Deluxe    10c      TA    ✓  2021     4        10\n",
       "2021-04-07   Holderness Arete    10b      AS    ✓  2021     4        10\n",
       "2021-04-09        Masterpiece    10a      TA    ✓  2021     4        10\n",
       "2021-04-09      Metamorphosis      8      AS    ✓  2021     4         8\n",
       "2021-04-09 Men in White Suits      9      TA    ✓  2021     4         9\n",
       "2021-04-09 Men in White Suits      9      AS    ✓  2021     4         9\n",
       "2021-04-09        Masterpiece    10a      AS       2021     4        10\n",
       "2021-04-09      Metamorphosis      8      TA    ✓  2021     4         8\n",
       "       ...                ...    ...     ...  ...   ...   ...       ...\n",
       "2024-06-01          Tropicana    11a      AS    ✓  2024     6        11\n",
       "2024-06-01          Tropicana    11a      TA    ✓  2024     6        11\n",
       "2024-06-01             Weevil    12a      TA    ✓  2024     6        12\n",
       "2024-06-01        Vallee Daze    12a      TA       2024     6        12\n",
       "2024-06-01    Black Dog Crack    10a      AS    ✓  2024     6        10\n",
       "2024-06-01    Black Dog Crack    10a      TA    ✓  2024     6        10\n",
       "2024-06-01      Sally's Alley    11c      AS       2024     6        11\n",
       "2024-06-01       10 of Spades    10c      TA    ✓  2024     6        10\n",
       "2024-06-01          Tropicana    11a      AS       2024     6        11\n",
       "2024-06-01       10 of Spades    10c      AS       2024     6        10"
      ]
     },
     "execution_count": 12,
     "metadata": {},
     "output_type": "execute_result"
    }
   ],
   "source": [
    "climbs"
   ]
  },
  {
   "cell_type": "code",
   "execution_count": null,
   "metadata": {},
   "outputs": [],
   "source": []
  },
  {
   "cell_type": "code",
   "execution_count": 13,
   "metadata": {},
   "outputs": [
    {
     "data": {
      "text/html": [
       "<div><i>Table length=2</i>\n",
       "<table id=\"table5039530608\" class=\"table-striped table-bordered table-condensed\">\n",
       "<thead><tr><th>date</th><th>name</th><th>grade</th><th>climber</th><th>send</th><th>year</th><th>month</th><th>grade_num</th></tr></thead>\n",
       "<thead><tr><th>str10</th><th>str24</th><th>object</th><th>str2</th><th>str1</th><th>int64</th><th>int64</th><th>int64</th></tr></thead>\n",
       "<tr><td>2024-05-18</td><td>Restless Native</td><td>12c</td><td>TA</td><td></td><td>2024</td><td>5</td><td>12</td></tr>\n",
       "<tr><td>2024-05-31</td><td>Restless Native</td><td>12c</td><td>TA</td><td></td><td>2024</td><td>5</td><td>12</td></tr>\n",
       "</table></div>"
      ],
      "text/plain": [
       "<Table length=2>\n",
       "   date          name      grade  climber send  year month grade_num\n",
       "  str10         str24      object   str2  str1 int64 int64   int64  \n",
       "---------- --------------- ------ ------- ---- ----- ----- ---------\n",
       "2024-05-18 Restless Native    12c      TA       2024     5        12\n",
       "2024-05-31 Restless Native    12c      TA       2024     5        12"
      ]
     },
     "execution_count": 13,
     "metadata": {},
     "output_type": "execute_result"
    }
   ],
   "source": [
    "climbs[climbs[\"name\"] == \"Restless Native\"]"
   ]
  },
  {
   "cell_type": "code",
   "execution_count": 14,
   "metadata": {},
   "outputs": [],
   "source": [
    "def filter_climbs(\n",
    "    climbs: list[core.ClimbingDay],\n",
    "    climber: str | None,\n",
    "    grade_min: str | None = None,\n",
    "    grade_max: str | Grade | None = None,\n",
    "    start: str | None = None,\n",
    "    stop: str | None = None,\n",
    "):\n",
    "    ok = np.ones(len(climbs), dtype=bool)\n",
    "    if climber:\n",
    "        ok &= climbs[\"climber\"] == climber\n",
    "    if grade_min:\n",
    "        ok &= climbs[\"grade\"] >= grade_min\n",
    "    if grade_max:\n",
    "        ok &= climbs[\"grade\"] < grade_max\n",
    "    if start:\n",
    "        ok &= climbs[\"date\"] >= start\n",
    "    if stop:\n",
    "        ok &= climbs[\"date\"] < stop\n",
    "    climbs = climbs[ok]\n",
    "    return climbs"
   ]
  },
  {
   "cell_type": "code",
   "execution_count": 15,
   "metadata": {},
   "outputs": [
    {
     "data": {
      "text/html": [
       "<div><i>Table length=5</i>\n",
       "<table id=\"table5040438832\" class=\"table-striped table-bordered table-condensed\">\n",
       "<thead><tr><th>date</th><th>name</th><th>grade</th><th>climber</th><th>send</th><th>year</th><th>month</th><th>grade_num</th></tr></thead>\n",
       "<thead><tr><th>str10</th><th>str24</th><th>object</th><th>str2</th><th>str1</th><th>int64</th><th>int64</th><th>int64</th></tr></thead>\n",
       "<tr><td>2023-04-15</td><td>Orangahang</td><td>12a</td><td>TA</td><td>✓</td><td>2023</td><td>4</td><td>12</td></tr>\n",
       "<tr><td>2023-04-15</td><td>Pump up the Volume</td><td>12b</td><td>TA</td><td></td><td>2023</td><td>4</td><td>12</td></tr>\n",
       "<tr><td>2023-04-15</td><td>Social Outcast</td><td>12a</td><td>TA</td><td></td><td>2023</td><td>4</td><td>12</td></tr>\n",
       "<tr><td>2023-04-15</td><td>Orangahang</td><td>12a</td><td>TA</td><td></td><td>2023</td><td>4</td><td>12</td></tr>\n",
       "<tr><td>2023-04-21</td><td>Social Outcast</td><td>12a</td><td>TA</td><td>✓</td><td>2023</td><td>4</td><td>12</td></tr>\n",
       "</table></div>"
      ],
      "text/plain": [
       "<Table length=5>\n",
       "   date           name        grade  climber send  year month grade_num\n",
       "  str10          str24        object   str2  str1 int64 int64   int64  \n",
       "---------- ------------------ ------ ------- ---- ----- ----- ---------\n",
       "2023-04-15         Orangahang    12a      TA    ✓  2023     4        12\n",
       "2023-04-15 Pump up the Volume    12b      TA       2023     4        12\n",
       "2023-04-15     Social Outcast    12a      TA       2023     4        12\n",
       "2023-04-15         Orangahang    12a      TA       2023     4        12\n",
       "2023-04-21     Social Outcast    12a      TA    ✓  2023     4        12"
      ]
     },
     "execution_count": 15,
     "metadata": {},
     "output_type": "execute_result"
    }
   ],
   "source": [
    "filter_climbs(\n",
    "    climbs, climber=\"TA\", grade_min=\"5.12a\", start=\"2023-04-01\", stop=\"2023-06-01\"\n",
    ")"
   ]
  },
  {
   "cell_type": "code",
   "execution_count": 24,
   "metadata": {},
   "outputs": [],
   "source": [
    "import numpy as np\n",
    "from astropy.table import Table\n",
    "# data from https://allisonhorst.github.io/palmerpenguins/\n",
    "\n",
    "\n",
    "def plot_climb_stats(\n",
    "    climbs,\n",
    "    climber=None,\n",
    "    grade_min=None,\n",
    "    grade_max=None,\n",
    "    func=len,\n",
    "    func_default=0,\n",
    "    title=\"Climb counts\",\n",
    "):\n",
    "    months = list(range(4, 13))\n",
    "    month_names = [calendar.month_abbr[ii] for ii in months]\n",
    "    years = sorted(set(climbs[\"year\"]))\n",
    "\n",
    "    climbs = filter_climbs(climbs, climber, grade_min, grade_max)\n",
    "\n",
    "    climb_counts = collections.defaultdict(lambda: func_default)\n",
    "    climbs_grouped = climbs.group_by([\"year\", \"month\"])\n",
    "    for cg in climbs_grouped.groups:\n",
    "        key = (cg[\"year\"][0], cg[\"month\"][0])\n",
    "        climb_counts[key] = func(cg)\n",
    "\n",
    "    climbs_by_month = {}\n",
    "    for year in years:\n",
    "        climbs_by_month[year] = [climb_counts[year, month] for month in months]\n",
    "\n",
    "    x = np.arange(len(months))  # the label locations\n",
    "    width = 0.15  # the width of the bars\n",
    "    multiplier = -0.5\n",
    "\n",
    "    fig, ax = plt.subplots(layout=\"constrained\", figsize=(8, 4.5))\n",
    "\n",
    "    # define colors as matplotlib cycle defaults\n",
    "    for idx, (year, climb_by_month) in enumerate(climbs_by_month.items()):\n",
    "        offset = width * multiplier\n",
    "        label = f\"{year}: {sum(np.array(climb_by_month))}\"\n",
    "        color = f\"C{idx % 10}\"\n",
    "        if isinstance(climb_by_month[0], tuple):\n",
    "            climb_by_month_send, climb_by_month_hang = zip(*climb_by_month)\n",
    "            ax.bar(x + offset, climb_by_month_send, width, color=color, label=label)\n",
    "            ax.bar(\n",
    "                x + offset,\n",
    "                climb_by_month_hang,\n",
    "                width,\n",
    "                bottom=climb_by_month_send,\n",
    "                color=color,\n",
    "                alpha=0.5,\n",
    "            )\n",
    "        else:\n",
    "            ax.bar(x + offset, climb_by_month, width, label=label)\n",
    "        multiplier += 1\n",
    "\n",
    "    # Add some text for labels, title and custom x-axis tick labels, etc.\n",
    "    title_words = [title, \"by month\"]\n",
    "    if climber:\n",
    "        title_words.append(f\"by {climber}\")\n",
    "    match grade_min, grade_max:\n",
    "        case None, None:\n",
    "            pass\n",
    "        case None, _:\n",
    "            title_words.append(f\"easier than {grade_max}\")\n",
    "        case _, None:\n",
    "            title_words.append(f\"harder than {grade_min}\")\n",
    "        case _, _:\n",
    "            title_words.append(f\"from {grade_min} to < {grade_max}\")\n",
    "\n",
    "    ax.set_ylabel(\"Number\")\n",
    "    ax.set_title(\" \".join(title_words))\n",
    "    ax.set_xticks(x + width, month_names)\n",
    "    ax.legend()\n",
    "    # ax.set_ylim(0, 250)\n",
    "\n",
    "    plt.show()"
   ]
  },
  {
   "cell_type": "code",
   "execution_count": 25,
   "metadata": {},
   "outputs": [],
   "source": [
    "def count_days(climbs):\n",
    "    return len(set(climbs[\"date\"]))"
   ]
  },
  {
   "cell_type": "code",
   "execution_count": 26,
   "metadata": {},
   "outputs": [
    {
     "data": {
      "image/png": "[encoded data removed]",
      "text/plain": [
       "<Figure size 800x450 with 1 Axes>"
      ]
     },
     "metadata": {},
     "output_type": "display_data"
    }
   ],
   "source": [
    "plot_climb_stats(climbs, func=count_days, title=\"Days outside climbing\")"
   ]
  },
  {
   "cell_type": "code",
   "execution_count": 27,
   "metadata": {},
   "outputs": [],
   "source": [
    "def count_climbs_sends_hangs(climbs):\n",
    "    ok = climbs[\"send\"] == \"✓\"\n",
    "    return np.count_nonzero(ok), np.count_nonzero(~ok)"
   ]
  },
  {
   "cell_type": "code",
   "execution_count": 28,
   "metadata": {},
   "outputs": [
    {
     "data": {
      "image/png": "[encoded data removed]",
      "text/plain": [
       "<Figure size 800x450 with 1 Axes>"
      ]
     },
     "metadata": {},
     "output_type": "display_data"
    }
   ],
   "source": [
    "plot_climb_stats(\n",
    "    climbs,\n",
    "    climber=\"TA\",\n",
    "    grade_min=\"12a\",\n",
    "    # grade_max=\"13a\",\n",
    "    func=count_climbs_sends_hangs,\n",
    "    func_default=(0, 0),\n",
    "    title=\"Sends and hangs\",\n",
    ")"
   ]
  },
  {
   "cell_type": "code",
   "execution_count": 29,
   "metadata": {},
   "outputs": [
    {
     "data": {
      "image/png": "[encoded data removed]",
      "text/plain": [
       "<Figure size 800x450 with 1 Axes>"
      ]
     },
     "metadata": {},
     "output_type": "display_data"
    }
   ],
   "source": [
    "plot_climb_stats(\n",
    "    climbs,\n",
    "    climber=\"AS\",\n",
    "    grade_min=\"12a\",\n",
    "    # grade_max=\"12d\",\n",
    "    func=count_climbs_sends_hangs,\n",
    "    func_default=(0, 0),\n",
    "    title=\"Sends and hangs\",\n",
    ")"
   ]
  },
  {
   "cell_type": "code",
   "execution_count": 30,
   "metadata": {},
   "outputs": [
    {
     "data": {
      "text/html": [
       "<div><i>Table length=20</i>\n",
       "<table id=\"table5054276832\" class=\"table-striped table-bordered table-condensed\">\n",
       "<thead><tr><th>date</th><th>name</th><th>grade</th><th>climber</th><th>send</th><th>year</th><th>month</th><th>grade_num</th></tr></thead>\n",
       "<thead><tr><th>str10</th><th>str24</th><th>object</th><th>str2</th><th>str1</th><th>int64</th><th>int64</th><th>int64</th></tr></thead>\n",
       "<tr><td>2022-05-06</td><td>Kundalini</td><td>12d</td><td>TA</td><td></td><td>2022</td><td>5</td><td>12</td></tr>\n",
       "<tr><td>2022-05-08</td><td>Kundalini</td><td>12d</td><td>TA</td><td></td><td>2022</td><td>5</td><td>12</td></tr>\n",
       "<tr><td>2022-05-10</td><td>Kundalini</td><td>12d</td><td>TA</td><td></td><td>2022</td><td>5</td><td>12</td></tr>\n",
       "<tr><td>2022-05-10</td><td>Kundalini</td><td>12d</td><td>TA</td><td></td><td>2022</td><td>5</td><td>12</td></tr>\n",
       "<tr><td>2022-05-24</td><td>Kundalini</td><td>12d</td><td>TA</td><td></td><td>2022</td><td>5</td><td>12</td></tr>\n",
       "<tr><td>2022-05-24</td><td>Kundalini</td><td>12d</td><td>TA</td><td></td><td>2022</td><td>5</td><td>12</td></tr>\n",
       "<tr><td>2022-05-29</td><td>Kundalini</td><td>12d</td><td>TA</td><td></td><td>2022</td><td>5</td><td>12</td></tr>\n",
       "<tr><td>2022-09-25</td><td>Kundalini</td><td>12d</td><td>TA</td><td></td><td>2022</td><td>9</td><td>12</td></tr>\n",
       "<tr><td>2022-09-30</td><td>Kundalini</td><td>12d</td><td>TA</td><td></td><td>2022</td><td>9</td><td>12</td></tr>\n",
       "<tr><td>2022-10-02</td><td>Kundalini</td><td>12d</td><td>TA</td><td></td><td>2022</td><td>10</td><td>12</td></tr>\n",
       "<tr><td>2022-10-08</td><td>Kundalini</td><td>12d</td><td>TA</td><td></td><td>2022</td><td>10</td><td>12</td></tr>\n",
       "<tr><td>2022-10-08</td><td>Kundalini</td><td>12d</td><td>TA</td><td></td><td>2022</td><td>10</td><td>12</td></tr>\n",
       "<tr><td>2022-10-11</td><td>Kundalini</td><td>12d</td><td>TA</td><td></td><td>2022</td><td>10</td><td>12</td></tr>\n",
       "<tr><td>2022-10-15</td><td>Kundalini</td><td>12d</td><td>TA</td><td></td><td>2022</td><td>10</td><td>12</td></tr>\n",
       "<tr><td>2022-10-16</td><td>Kundalini</td><td>12d</td><td>TA</td><td>✓</td><td>2022</td><td>10</td><td>12</td></tr>\n",
       "<tr><td>2022-10-22</td><td>Fish Hook</td><td>12d</td><td>TA</td><td></td><td>2022</td><td>10</td><td>12</td></tr>\n",
       "<tr><td>2023-08-06</td><td>Tin Man</td><td>13a/b</td><td>TA</td><td></td><td>2023</td><td>8</td><td>13</td></tr>\n",
       "<tr><td>2023-08-11</td><td>Tin Man</td><td>13a/b</td><td>TA</td><td></td><td>2023</td><td>8</td><td>13</td></tr>\n",
       "<tr><td>2023-09-29</td><td>Tin Monkeys</td><td>13a/b</td><td>TA</td><td></td><td>2023</td><td>9</td><td>13</td></tr>\n",
       "<tr><td>2024-05-31</td><td>Aquarius</td><td>12d</td><td>TA</td><td></td><td>2024</td><td>5</td><td>12</td></tr>\n",
       "</table></div>"
      ],
      "text/plain": [
       "<Table length=20>\n",
       "   date        name    grade  climber send  year month grade_num\n",
       "  str10       str24    object   str2  str1 int64 int64   int64  \n",
       "---------- ----------- ------ ------- ---- ----- ----- ---------\n",
       "2022-05-06   Kundalini    12d      TA       2022     5        12\n",
       "2022-05-08   Kundalini    12d      TA       2022     5        12\n",
       "2022-05-10   Kundalini    12d      TA       2022     5        12\n",
       "2022-05-10   Kundalini    12d      TA       2022     5        12\n",
       "2022-05-24   Kundalini    12d      TA       2022     5        12\n",
       "2022-05-24   Kundalini    12d      TA       2022     5        12\n",
       "2022-05-29   Kundalini    12d      TA       2022     5        12\n",
       "2022-09-25   Kundalini    12d      TA       2022     9        12\n",
       "2022-09-30   Kundalini    12d      TA       2022     9        12\n",
       "2022-10-02   Kundalini    12d      TA       2022    10        12\n",
       "2022-10-08   Kundalini    12d      TA       2022    10        12\n",
       "2022-10-08   Kundalini    12d      TA       2022    10        12\n",
       "2022-10-11   Kundalini    12d      TA       2022    10        12\n",
       "2022-10-15   Kundalini    12d      TA       2022    10        12\n",
       "2022-10-16   Kundalini    12d      TA    ✓  2022    10        12\n",
       "2022-10-22   Fish Hook    12d      TA       2022    10        12\n",
       "2023-08-06     Tin Man  13a/b      TA       2023     8        13\n",
       "2023-08-11     Tin Man  13a/b      TA       2023     8        13\n",
       "2023-09-29 Tin Monkeys  13a/b      TA       2023     9        13\n",
       "2024-05-31    Aquarius    12d      TA       2024     5        12"
      ]
     },
     "execution_count": 30,
     "metadata": {},
     "output_type": "execute_result"
    }
   ],
   "source": [
    "filter_climbs(climbs, climber=\"TA\", grade_min=\"5.12d\")"
   ]
  },
  {
   "cell_type": "code",
   "execution_count": 23,
   "metadata": {},
   "outputs": [
    {
     "name": "stdout",
     "output_type": "stream",
     "text": [
      "   date            name         grade climber send year month grade_num\n",
      "---------- -------------------- ----- ------- ---- ---- ----- ---------\n",
      "2021-07-24       Flesh for Lulu   12b      AS      2021     7        12\n",
      "2021-07-31               Weevil   12a      AS      2021     7        12\n",
      "2021-07-31          Vallee Daze   12a      AS      2021     7        12\n",
      "2021-09-04          Vallee Daze   12a      AS      2021     9        12\n",
      "2021-09-19       Flying Monkeys   12c      AS      2021     9        12\n",
      "2021-10-22         Captain Hook   12a      AS      2021    10        12\n",
      "2021-10-22         Captain Hook   12a      AS      2021    10        12\n",
      "2021-11-11         Captain Hook   12a      AS      2021    11        12\n",
      "2021-11-14         Captain Hook   12a      AS      2021    11        12\n",
      "2021-11-20           Good Earth   12c      AS      2021    11        12\n",
      "2022-05-06            Kundalini   12d      AS      2022     5        12\n",
      "2022-05-07         Captain Hook   12a      AS      2022     5        12\n",
      "2022-05-11         Captain Hook   12a      AS      2022     5        12\n",
      "2022-06-11       Flesh for Lulu   12b      AS      2022     6        12\n",
      "2022-06-11       Flesh for Lulu   12b      AS      2022     6        12\n",
      "2022-09-30       Social Outcast   12a      AS      2022     9        12\n",
      "2022-10-02       Social Outcast   12a      AS      2022    10        12\n",
      "2022-10-03       Social Outcast   12a      AS      2022    10        12\n",
      "2022-10-08       Social Outcast   12a      AS      2022    10        12\n",
      "2022-10-08       Social Outcast   12a      AS      2022    10        12\n",
      "2022-10-11       Social Outcast   12a      AS      2022    10        12\n",
      "2022-10-15       Social Outcast   12a      AS      2022    10        12\n",
      "2022-10-16       Social Outcast   12a      AS      2022    10        12\n",
      "2022-10-16       Social Outcast   12a      AS      2022    10        12\n",
      "2022-10-19       Social Outcast   12a      AS      2022    10        12\n",
      "2022-10-19       Social Outcast   12a      AS      2022    10        12\n",
      "2022-10-19       Social Outcast   12a      AS      2022    10        12\n",
      "2022-10-21       Social Outcast   12a      AS      2022    10        12\n",
      "2022-10-22         Captain Hook   12a      AS      2022    10        12\n",
      "2022-10-28       Social Outcast   12a      AS      2022    10        12\n",
      "2022-10-28       Social Outcast   12a      AS      2022    10        12\n",
      "2022-11-05       Social Outcast   12a      AS      2022    11        12\n",
      "2022-11-11       Social Outcast   12a      AS      2022    11        12\n",
      "2022-11-11       Social Outcast   12a      AS      2022    11        12\n",
      "2022-11-27       Social Outcast   12a      AS      2022    11        12\n",
      "2022-12-02       Social Outcast   12a      AS      2022    12        12\n",
      "2022-12-09            Whip Tide   12b      AS      2022    12        12\n",
      "2022-12-09       Social Outcast   12a      AS      2022    12        12\n",
      "2023-04-13       Social Outcast   12a      AS      2023     4        12\n",
      "2023-04-15   Pump up the Volume   12b      AS      2023     4        12\n",
      "2023-04-15           Orangahang   12a      AS      2023     4        12\n",
      "2023-04-15       Social Outcast   12a      AS      2023     4        12\n",
      "2023-04-21       Social Outcast   12a      AS      2023     4        12\n",
      "2023-04-28       Social Outcast   12a      AS      2023     4        12\n",
      "2023-05-06       Social Outcast   12a      AS      2023     5        12\n",
      "2023-05-06       Social Outcast   12a      AS      2023     5        12\n",
      "2023-05-08       Social Outcast   12a      AS      2023     5        12\n",
      "2023-05-08       Social Outcast   12a      AS      2023     5        12\n",
      "2023-05-13       Social Outcast   12a      AS      2023     5        12\n",
      "2023-05-14       Social Outcast   12a      AS      2023     5        12\n",
      "2023-05-18       Social Outcast   12a      AS      2023     5        12\n",
      "2023-06-10       Flesh for Lulu   12b      AS      2023     6        12\n",
      "2023-06-18          Vallee Daze   12a      AS      2023     6        12\n",
      "2023-07-22       Flesh for Lulu   12b      AS      2023     7        12\n",
      "2023-07-23       Social Outcast   12a      AS      2023     7        12\n",
      "2023-07-23           Orangahang   12a      AS      2023     7        12\n",
      "2023-07-31       Social Outcast   12a      AS      2023     7        12\n",
      "2023-09-08          Vallee Daze   12a      AS      2023     9        12\n",
      "2023-09-15         Captain Hook   12a      AS      2023     9        12\n",
      "2023-09-15 Venus on a Halfshell   12c      AS      2023     9        12\n",
      "2023-09-15          Vallee Daze   12a      AS      2023     9        12\n",
      "2023-09-17          Vallee Daze   12a      AS      2023     9        12\n",
      "2023-09-20         Captain Hook   12a      AS      2023     9        12\n",
      "2023-09-20 Venus on a Halfshell   12c      AS      2023     9        12\n",
      "2023-09-20       Social Outcast   12a      AS      2023     9        12\n",
      "2023-09-22       Social Outcast   12a      AS      2023     9        12\n",
      "2023-09-24       Social Outcast   12a      AS      2023     9        12\n",
      "2023-10-09          Vallee Daze   12a      AS      2023    10        12\n",
      "2023-10-18          Vallee Daze   12a      AS      2023    10        12\n",
      "2023-10-19       Social Outcast   12a      AS      2023    10        12\n",
      "2023-10-19       Social Outcast   12a      AS      2023    10        12\n",
      "2023-11-05       Social Outcast   12a      AS      2023    11        12\n",
      "2023-11-05       Social Outcast   12a      AS      2023    11        12\n",
      "2023-11-05       Social Outcast   12a      AS      2023    11        12\n",
      "2023-11-12       Social Outcast   12a      AS      2023    11        12\n",
      "2023-11-17       Social Outcast   12a      AS      2023    11        12\n",
      "2024-04-21       Social Outcast   12a      AS      2024     4        12\n",
      "2024-04-26       Social Outcast   12a      AS      2024     4        12\n",
      "2024-04-30   Pump up the Volume   12b      AS      2024     4        12\n",
      "2024-05-03       Flesh for Lulu   12b      AS      2024     5        12\n",
      "2024-05-04       Social Outcast   12a      AS      2024     5        12\n",
      "2024-05-07       Social Outcast   12a      AS      2024     5        12\n",
      "2024-05-07       Social Outcast   12a      AS      2024     5        12\n",
      "2024-05-11       Social Outcast   12a      AS      2024     5        12\n",
      "2024-05-11       Social Outcast   12a      AS      2024     5        12\n",
      "2024-05-12       Social Outcast   12a      AS      2024     5        12\n",
      "2024-05-12       Social Outcast   12a      AS      2024     5        12\n",
      "2024-05-17       Social Outcast   12a      AS      2024     5        12\n",
      "2024-05-17       Social Outcast   12a      AS      2024     5        12\n",
      "2024-05-18       Social Outcast   12a      AS      2024     5        12\n",
      "2024-05-24       Social Outcast   12a      AS      2024     5        12\n",
      "2024-05-24       Social Outcast   12a      AS      2024     5        12\n",
      "2024-05-25          Vallee Daze   12a      AS      2024     5        12\n",
      "2024-05-31       Social Outcast   12a      AS      2024     5        12\n",
      "2024-05-31       Social Outcast   12a      AS      2024     5        12\n"
     ]
    }
   ],
   "source": [
    "filter_climbs(climbs, climber=\"AS\", grade_min=\"5.12a\").pprint_all()"
   ]
  },
  {
   "cell_type": "code",
   "execution_count": null,
   "metadata": {},
   "outputs": [],
   "source": []
  }
 ],
 "metadata": {
  "kernelspec": {
   "display_name": "Python 3",
   "language": "python",
   "name": "python3"
  },
  "language_info": {
   "codemirror_mode": {
    "name": "ipython",
    "version": 3
   },
   "file_extension": ".py",
   "mimetype": "text/x-python",
   "name": "python",
   "nbconvert_exporter": "python",
   "pygments_lexer": "ipython3",
   "version": "3.12.3"
  }
 },
 "nbformat": 4,
 "nbformat_minor": 2
}
