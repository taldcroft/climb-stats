{
 "cells": [
  {
   "cell_type": "code",
   "execution_count": 1,
   "metadata": {},
   "outputs": [],
   "source": [
    "import calendar\n",
    "import dataclasses\n",
    "from pprint import pprint\n",
    "import shelve\n",
    "\n",
    "import matplotlib.pyplot as plt\n",
    "import numpy as np\n",
    "import yaml\n",
    "from astropy.table import Table\n",
    "\n",
    "import core"
   ]
  },
  {
   "cell_type": "code",
   "execution_count": 2,
   "metadata": {},
   "outputs": [],
   "source": [
    "with shelve.open(\"climbing_days\") as data:\n",
    "    climbing_days: dict[str, core.ClimbingDay] = dict(data)"
   ]
  },
  {
   "cell_type": "code",
   "execution_count": 3,
   "metadata": {},
   "outputs": [
    {
     "data": {
      "text/plain": [
       "['2021-04-07',\n",
       " '2021-04-09',\n",
       " '2021-04-24',\n",
       " '2021-05-07',\n",
       " '2021-05-08',\n",
       " '2021-05-09',\n",
       " '2021-05-13',\n",
       " '2021-05-14',\n",
       " '2021-05-24',\n",
       " '2021-06-05']"
      ]
     },
     "execution_count": 3,
     "metadata": {},
     "output_type": "execute_result"
    }
   ],
   "source": [
    "sorted(climbing_days.keys())[:10]"
   ]
  },
  {
   "cell_type": "code",
   "execution_count": 4,
   "metadata": {},
   "outputs": [],
   "source": [
    "climbing_day = climbing_days[\"2024-04-09\"]"
   ]
  },
  {
   "cell_type": "code",
   "execution_count": 5,
   "metadata": {},
   "outputs": [
    {
     "data": {
      "text/plain": [
       "core.ClimbingDay"
      ]
     },
     "execution_count": 5,
     "metadata": {},
     "output_type": "execute_result"
    }
   ],
   "source": [
    "type(climbing_day)"
   ]
  },
  {
   "cell_type": "code",
   "execution_count": 6,
   "metadata": {},
   "outputs": [
    {
     "name": "stdout",
     "output_type": "stream",
     "text": [
      "ClimbingDay(date='2024-05-18',\n",
      "            log_text='Sesame, Centerpiece, Social O (TA, AS usual 1h), Restless Native (TA, first try in many years, stopped at low crux not very close, beta all wrong)',\n",
      "            place_and_climbers='TA AS Rumney w/ Hillary',\n",
      "            climb_entries=[ClimbEntry(name_approx='Sesame',\n",
      "                                      comment='',\n",
      "                                      climbers=['TA', 'AS'],\n",
      "                                      climb_info=ClimbInfo(name='Sesame Street',\n",
      "                                                           grade='10b',\n",
      "                                                           aliases=['Sesame '\n",
      "                                                                    'Street',\n",
      "                                                                    'Sesame']),\n",
      "                                      climb_events=[ClimbEvent(climber='TA',\n",
      "                                                               hang=False),\n",
      "                                                    ClimbEvent(climber='AS',\n",
      "                                                               hang=False)],\n",
      "                                      idx_entry_start=0),\n",
      "                           ClimbEntry(name_approx='Centerpiece',\n",
      "                                      comment='',\n",
      "                                      climbers=['TA', 'AS'],\n",
      "                                      climb_info=ClimbInfo(name='Centerpiece',\n",
      "                                                           grade='10d',\n",
      "                                                           aliases=['Centerpiece']),\n",
      "                                      climb_events=[ClimbEvent(climber='TA',\n",
      "                                                               hang=False),\n",
      "                                                    ClimbEvent(climber='AS',\n",
      "                                                               hang=False)],\n",
      "                                      idx_entry_start=7),\n",
      "                           ClimbEntry(name_approx='Social O',\n",
      "                                      comment='TA, AS usual 1h',\n",
      "                                      climbers=['TA', 'AS'],\n",
      "                                      climb_info=ClimbInfo(name='Social '\n",
      "                                                                'Outcast',\n",
      "                                                           grade='12a',\n",
      "                                                           aliases=['Social '\n",
      "                                                                    'Outcast',\n",
      "                                                                    'Social',\n",
      "                                                                    'Social O']),\n",
      "                                      climb_events=[ClimbEvent(climber='TA',\n",
      "                                                               hang=False),\n",
      "                                                    ClimbEvent(climber='AS',\n",
      "                                                               hang=True)],\n",
      "                                      idx_entry_start=20),\n",
      "                           ClimbEntry(name_approx='Restless Native',\n",
      "                                      comment='TA, first try in many years, '\n",
      "                                              'stopped at low crux not very '\n",
      "                                              'close, beta all wrong',\n",
      "                                      climbers=['TA', 'AS'],\n",
      "                                      climb_info=ClimbInfo(name='Restless '\n",
      "                                                                'Native',\n",
      "                                                           grade='12c',\n",
      "                                                           aliases=['Restless '\n",
      "                                                                    'Native']),\n",
      "                                      climb_events=[ClimbEvent(climber='TA',\n",
      "                                                               hang=False)],\n",
      "                                      idx_entry_start=48)])\n"
     ]
    }
   ],
   "source": [
    "pprint(climbing_days[\"2024-05-18\"])"
   ]
  },
  {
   "cell_type": "code",
   "execution_count": 7,
   "metadata": {},
   "outputs": [
    {
     "name": "stdout",
     "output_type": "stream",
     "text": [
      "ClimbEntry(name_approx='Sesame',\n",
      "           comment='',\n",
      "           climbers=['TA', 'AS'],\n",
      "           climb_info=ClimbInfo(name='Sesame Street',\n",
      "                                grade='10b',\n",
      "                                aliases=['Sesame Street', 'Sesame']),\n",
      "           climb_events=[ClimbEvent(climber='TA', hang=False),\n",
      "                         ClimbEvent(climber='AS', hang=False)],\n",
      "           idx_entry_start=0)\n"
     ]
    }
   ],
   "source": [
    "pprint(climbing_days[\"2024-05-18\"].climb_entries[0])"
   ]
  },
  {
   "cell_type": "code",
   "execution_count": 8,
   "metadata": {},
   "outputs": [
    {
     "data": {
      "text/plain": [
       "ClimbEvent(climber='TA', hang=False)"
      ]
     },
     "execution_count": 8,
     "metadata": {},
     "output_type": "execute_result"
    }
   ],
   "source": [
    "climbing_days[\"2024-05-18\"].climb_entries[0].climb_events[0]"
   ]
  },
  {
   "cell_type": "code",
   "execution_count": 9,
   "metadata": {},
   "outputs": [],
   "source": [
    "import re\n",
    "from functools import cached_property\n",
    "\n",
    "\n",
    "class Grade:\n",
    "    def __init__(self, grade):\n",
    "        if isinstance(grade, str):\n",
    "            self.grade = grade\n",
    "        else:\n",
    "            self.grade = grade.grade\n",
    "\n",
    "    @cached_property\n",
    "    def number_mod(self):\n",
    "        grade_str = self.grade\n",
    "        if grade_str.startswith(\"5.\"):\n",
    "            grade_str = grade_str[2:]\n",
    "        number, modifier = re.match(r\"(\\d+)([^\\d]*)\", grade_str).groups()\n",
    "        number = int(number)\n",
    "        if modifier == \"-\":\n",
    "            modifier = \"a/b\"\n",
    "        if modifier == \"+\":\n",
    "            modifier = \"c/d\"\n",
    "        return number, modifier\n",
    "\n",
    "    def __repr__(self):\n",
    "        return self.grade\n",
    "\n",
    "    def __hash__(self):\n",
    "        return hash(self.grade)\n",
    "\n",
    "    def __eq__(self, other):\n",
    "        return self.number_mod == Grade(other).number_mod\n",
    "\n",
    "    def __ne__(self, other):\n",
    "        return not self == other\n",
    "\n",
    "    def __le__(self, other):\n",
    "        return self.number_mod <= Grade(other).number_mod\n",
    "\n",
    "    def __gt__(self, other):\n",
    "        return not self <= other\n",
    "\n",
    "    def __lt__(self, other):\n",
    "        return self.number_mod < Grade(other).number_mod\n",
    "\n",
    "    def __ge__(self, other):\n",
    "        return not self < other"
   ]
  },
  {
   "cell_type": "code",
   "execution_count": 10,
   "metadata": {},
   "outputs": [
    {
     "name": "stdout",
     "output_type": "stream",
     "text": [
      "5.10-\n",
      "True\n",
      "False\n"
     ]
    }
   ],
   "source": [
    "g1 = Grade(\"5.10-\")\n",
    "print(g1)\n",
    "g2 = Grade(\"5.10b\")\n",
    "print(g1 < \"12a\")\n",
    "print(\"12a\" < g1)"
   ]
  },
  {
   "cell_type": "code",
   "execution_count": 11,
   "metadata": {},
   "outputs": [
    {
     "data": {
      "text/plain": [
       "True"
      ]
     },
     "execution_count": 11,
     "metadata": {},
     "output_type": "execute_result"
    }
   ],
   "source": [
    "\"9+\" < g1"
   ]
  },
  {
   "cell_type": "code",
   "execution_count": 12,
   "metadata": {},
   "outputs": [],
   "source": [
    "def get_climbs_table(climbing_days: dict[str, core.ClimbingDay]) -> Table:\n",
    "    rows = []\n",
    "    for date in climbing_days:\n",
    "        for entry in climbing_days[date].climb_entries:\n",
    "            for event in entry.climb_events:\n",
    "                rows.append(\n",
    "                    (\n",
    "                        date,\n",
    "                        entry.climb_info.name,\n",
    "                        Grade(entry.climb_info.grade),\n",
    "                        event.climber,\n",
    "                        \"\" if event.hang else \"✓\",\n",
    "                    )\n",
    "                )\n",
    "    climbs = Table(rows=rows, names=(\"date\", \"name\", \"grade\", \"climber\", \"send\"))\n",
    "    climbs.sort(\"date\")\n",
    "    climbs[\"year\"] = np.array([int(date.split(\"-\")[0]) for date in climbs[\"date\"]])\n",
    "    climbs[\"month\"] = np.array([int(date.split(\"-\")[1]) for date in climbs[\"date\"]])\n",
    "    climbs[\"grade_num\"] = np.array([grade.number_mod[0] for grade in climbs[\"grade\"]])\n",
    "\n",
    "    return climbs"
   ]
  },
  {
   "cell_type": "code",
   "execution_count": 13,
   "metadata": {},
   "outputs": [],
   "source": [
    "climbs = get_climbs_table(climbing_days)"
   ]
  },
  {
   "cell_type": "code",
   "execution_count": 14,
   "metadata": {},
   "outputs": [
    {
     "data": {
      "text/html": [
       "<div><i>Table length=1315</i>\n",
       "<table id=\"table5453341728\" class=\"table-striped table-bordered table-condensed\">\n",
       "<thead><tr><th>date</th><th>name</th><th>grade</th><th>climber</th><th>send</th><th>year</th><th>month</th><th>grade_num</th></tr></thead>\n",
       "<thead><tr><th>str10</th><th>str24</th><th>object</th><th>str2</th><th>str1</th><th>int64</th><th>int64</th><th>int64</th></tr></thead>\n",
       "<tr><td>2021-04-07</td><td>Holderness Arete</td><td>10b</td><td>TA</td><td>✓</td><td>2021</td><td>4</td><td>10</td></tr>\n",
       "<tr><td>2021-04-07</td><td>Idiot Deluxe</td><td>10c</td><td>AS</td><td>✓</td><td>2021</td><td>4</td><td>10</td></tr>\n",
       "<tr><td>2021-04-07</td><td>Idiot Deluxe</td><td>10c</td><td>TA</td><td>✓</td><td>2021</td><td>4</td><td>10</td></tr>\n",
       "<tr><td>2021-04-07</td><td>Holderness Arete</td><td>10b</td><td>AS</td><td>✓</td><td>2021</td><td>4</td><td>10</td></tr>\n",
       "<tr><td>2021-04-09</td><td>Masterpiece</td><td>10a</td><td>TA</td><td>✓</td><td>2021</td><td>4</td><td>10</td></tr>\n",
       "<tr><td>2021-04-09</td><td>Metamorphosis</td><td>8</td><td>AS</td><td>✓</td><td>2021</td><td>4</td><td>8</td></tr>\n",
       "<tr><td>2021-04-09</td><td>Men in White Suits</td><td>9</td><td>TA</td><td>✓</td><td>2021</td><td>4</td><td>9</td></tr>\n",
       "<tr><td>2021-04-09</td><td>Men in White Suits</td><td>9</td><td>AS</td><td>✓</td><td>2021</td><td>4</td><td>9</td></tr>\n",
       "<tr><td>2021-04-09</td><td>Masterpiece</td><td>10a</td><td>AS</td><td></td><td>2021</td><td>4</td><td>10</td></tr>\n",
       "<tr><td>2021-04-09</td><td>Metamorphosis</td><td>8</td><td>TA</td><td>✓</td><td>2021</td><td>4</td><td>8</td></tr>\n",
       "<tr><td>...</td><td>...</td><td>...</td><td>...</td><td>...</td><td>...</td><td>...</td><td>...</td></tr>\n",
       "<tr><td>2024-06-01</td><td>Sally&apos;s Alley</td><td>11c</td><td>AS</td><td></td><td>2024</td><td>6</td><td>11</td></tr>\n",
       "<tr><td>2024-06-01</td><td>Black Dog Crack</td><td>10a</td><td>TA</td><td>✓</td><td>2024</td><td>6</td><td>10</td></tr>\n",
       "<tr><td>2024-06-01</td><td>Weevil</td><td>12a</td><td>TA</td><td>✓</td><td>2024</td><td>6</td><td>12</td></tr>\n",
       "<tr><td>2024-06-01</td><td>Vallee Daze</td><td>12a</td><td>TA</td><td></td><td>2024</td><td>6</td><td>12</td></tr>\n",
       "<tr><td>2024-06-01</td><td>10 of Spades</td><td>10c</td><td>AS</td><td></td><td>2024</td><td>6</td><td>10</td></tr>\n",
       "<tr><td>2024-06-01</td><td>10 of Spades</td><td>10c</td><td>TA</td><td>✓</td><td>2024</td><td>6</td><td>10</td></tr>\n",
       "<tr><td>2024-06-01</td><td>Tropicana</td><td>11a</td><td>TA</td><td>✓</td><td>2024</td><td>6</td><td>11</td></tr>\n",
       "<tr><td>2024-06-01</td><td>Tropicana</td><td>11a</td><td>AS</td><td>✓</td><td>2024</td><td>6</td><td>11</td></tr>\n",
       "<tr><td>2024-06-01</td><td>Black Dog Crack</td><td>10a</td><td>AS</td><td>✓</td><td>2024</td><td>6</td><td>10</td></tr>\n",
       "<tr><td>2024-06-01</td><td>Tropicana</td><td>11a</td><td>AS</td><td></td><td>2024</td><td>6</td><td>11</td></tr>\n",
       "</table></div>"
      ],
      "text/plain": [
       "<Table length=1315>\n",
       "   date           name        grade  climber send  year month grade_num\n",
       "  str10          str24        object   str2  str1 int64 int64   int64  \n",
       "---------- ------------------ ------ ------- ---- ----- ----- ---------\n",
       "2021-04-07   Holderness Arete    10b      TA    ✓  2021     4        10\n",
       "2021-04-07       Idiot Deluxe    10c      AS    ✓  2021     4        10\n",
       "2021-04-07       Idiot Deluxe    10c      TA    ✓  2021     4        10\n",
       "2021-04-07   Holderness Arete    10b      AS    ✓  2021     4        10\n",
       "2021-04-09        Masterpiece    10a      TA    ✓  2021     4        10\n",
       "2021-04-09      Metamorphosis      8      AS    ✓  2021     4         8\n",
       "2021-04-09 Men in White Suits      9      TA    ✓  2021     4         9\n",
       "2021-04-09 Men in White Suits      9      AS    ✓  2021     4         9\n",
       "2021-04-09        Masterpiece    10a      AS       2021     4        10\n",
       "2021-04-09      Metamorphosis      8      TA    ✓  2021     4         8\n",
       "       ...                ...    ...     ...  ...   ...   ...       ...\n",
       "2024-06-01      Sally's Alley    11c      AS       2024     6        11\n",
       "2024-06-01    Black Dog Crack    10a      TA    ✓  2024     6        10\n",
       "2024-06-01             Weevil    12a      TA    ✓  2024     6        12\n",
       "2024-06-01        Vallee Daze    12a      TA       2024     6        12\n",
       "2024-06-01       10 of Spades    10c      AS       2024     6        10\n",
       "2024-06-01       10 of Spades    10c      TA    ✓  2024     6        10\n",
       "2024-06-01          Tropicana    11a      TA    ✓  2024     6        11\n",
       "2024-06-01          Tropicana    11a      AS    ✓  2024     6        11\n",
       "2024-06-01    Black Dog Crack    10a      AS    ✓  2024     6        10\n",
       "2024-06-01          Tropicana    11a      AS       2024     6        11"
      ]
     },
     "execution_count": 14,
     "metadata": {},
     "output_type": "execute_result"
    }
   ],
   "source": [
    "climbs"
   ]
  },
  {
   "cell_type": "code",
   "execution_count": null,
   "metadata": {},
   "outputs": [],
   "source": []
  },
  {
   "cell_type": "code",
   "execution_count": 15,
   "metadata": {},
   "outputs": [],
   "source": [
    "climbs12 = climbs[(climbs[\"grade\"] >= \"12a\") & (climbs[\"climber\"] == \"TA\")]\n",
    "climbs11 = climbs[\n",
    "    (climbs[\"grade\"] >= \"11a\") & (climbs[\"grade\"] < \"12a\") & (climbs[\"climber\"] == \"TA\")\n",
    "]"
   ]
  },
  {
   "cell_type": "code",
   "execution_count": 16,
   "metadata": {},
   "outputs": [],
   "source": [
    "def print_climbs(climbs, start, stop):\n",
    "    ok = (climbs[\"date\"] >= start) & (climbs[\"date\"] < stop)\n",
    "    climbs = climbs[ok]\n",
    "    ok = climbs[\"name\"] == \"Restless Native\"\n",
    "    climbs[\"send\"][ok] = \"\"\n",
    "    del climbs[\"climber\"]\n",
    "    print(len(climbs))\n",
    "    climbs.pprint_all()"
   ]
  },
  {
   "cell_type": "code",
   "execution_count": 17,
   "metadata": {},
   "outputs": [
    {
     "name": "stdout",
     "output_type": "stream",
     "text": [
      "44\n",
      "   date              name          grade send year month grade_num\n",
      "---------- ----------------------- ----- ---- ---- ----- ---------\n",
      "2022-04-15           Sally's Alley   11c    ✓ 2022     4        11\n",
      "2022-04-17           Cereal Killer   11c    ✓ 2022     4        11\n",
      "2022-04-22                 Mitosis   11d      2022     4        11\n",
      "2022-04-23           Sally's Alley   11c    ✓ 2022     4        11\n",
      "2022-04-23           Sally's Alley   11c    ✓ 2022     4        11\n",
      "2022-05-01             White Rhino   11c    ✓ 2022     5        11\n",
      "2022-05-01         Captain Fingers   11c      2022     5        11\n",
      "2022-05-08          Arm and Hammer   11c      2022     5        11\n",
      "2022-05-13               Sky Pilot   11b    ✓ 2022     5        11\n",
      "2022-05-13  Blueballs at Christmas   11b    ✓ 2022     5        11\n",
      "2022-05-13          Arm and Hammer   11c    ✓ 2022     5        11\n",
      "2022-05-13               Sky Pilot   11b    ✓ 2022     5        11\n",
      "2022-05-13          License to Ill   11a    ✓ 2022     5        11\n",
      "2022-05-19           Cereal Killer   11c    ✓ 2022     5        11\n",
      "2022-05-19               Sky Pilot   11b    ✓ 2022     5        11\n",
      "2022-05-19          Arm and Hammer   11c    ✓ 2022     5        11\n",
      "2022-05-24             Prime Climb   11b      2022     5        11\n",
      "2022-05-29           F'ing the Dog   11a    ✓ 2022     5        11\n",
      "2022-06-12           Cereal Killer   11c    ✓ 2022     6        11\n",
      "2022-06-15           Sally's Alley   11c    ✓ 2022     6        11\n",
      "2022-07-10           Sally's Alley   11c    ✓ 2022     7        11\n",
      "2022-07-10               Tropicana   11a    ✓ 2022     7        11\n",
      "2022-07-16               Tropicana   11a    ✓ 2022     7        11\n",
      "2022-07-16                Mamba P1   11a    ✓ 2022     7        11\n",
      "2022-08-12           Sally's Alley   11c    ✓ 2022     8        11\n",
      "2022-08-14         Buried Treasure   11b    ✓ 2022     8        11\n",
      "2022-08-21               Sky Pilot   11b    ✓ 2022     8        11\n",
      "2022-08-21          License to Ill   11a    ✓ 2022     8        11\n",
      "2022-09-02 Supreme Onion Sacrifice   11a    ✓ 2022     9        11\n",
      "2022-09-02        Apocalypse Later   11d    ✓ 2022     9        11\n",
      "2022-09-02         Captain Fingers   11c      2022     9        11\n",
      "2022-09-10             Black Mamba   11c      2022     9        11\n",
      "2022-09-15          Arm and Hammer   11c    ✓ 2022     9        11\n",
      "2022-09-15          License to Ill   11a    ✓ 2022     9        11\n",
      "2022-09-15               Sky Pilot   11b    ✓ 2022     9        11\n",
      "2022-09-24               Sky Pilot   11b    ✓ 2022     9        11\n",
      "2022-10-11           Sally's Alley   11c    ✓ 2022    10        11\n",
      "2022-10-15           Sally's Alley   11c    ✓ 2022    10        11\n",
      "2022-10-22         Buried Treasure   11b    ✓ 2022    10        11\n",
      "2022-10-29         Buried Treasure   11b    ✓ 2022    10        11\n",
      "2022-10-29           Sally's Alley   11c    ✓ 2022    10        11\n",
      "2022-11-04           Sally's Alley   11c    ✓ 2022    11        11\n",
      "2022-11-04           Sally's Alley   11c    ✓ 2022    11        11\n",
      "2022-11-22           Sally's Alley   11c    ✓ 2022    11        11\n"
     ]
    }
   ],
   "source": [
    "print_climbs(climbs11, \"2022-01-01\", \"2022-12-31\")"
   ]
  },
  {
   "cell_type": "code",
   "execution_count": 18,
   "metadata": {},
   "outputs": [
    {
     "name": "stdout",
     "output_type": "stream",
     "text": [
      "40\n",
      "   date          name      grade send year month grade_num\n",
      "---------- --------------- ----- ---- ---- ----- ---------\n",
      "2023-04-08     White Rhino   11c      2023     4        11\n",
      "2023-04-09   Cereal Killer   11c    ✓ 2023     4        11\n",
      "2023-06-16       Tropicana   11a    ✓ 2023     6        11\n",
      "2023-06-16     Black Mamba   11c    ✓ 2023     6        11\n",
      "2023-06-18   Sally's Alley   11c    ✓ 2023     6        11\n",
      "2023-06-18     Black Mamba   11c      2023     6        11\n",
      "2023-06-22     Black Mamba   11c      2023     6        11\n",
      "2023-06-22       Tropicana   11a    ✓ 2023     6        11\n",
      "2023-06-23     Black Mamba   11c    ✓ 2023     6        11\n",
      "2023-06-23   F'ing the Dog   11a    ✓ 2023     6        11\n",
      "2023-06-23   F'ing the Dog   11a    ✓ 2023     6        11\n",
      "2023-06-30     Know Ethics   11a    ✓ 2023     6        11\n",
      "2023-06-30   Cereal Killer   11c    ✓ 2023     6        11\n",
      "2023-07-01   Cereal Killer   11c    ✓ 2023     7        11\n",
      "2023-07-30   Cereal Killer   11c    ✓ 2023     7        11\n",
      "2023-07-31       Tropicana   11a    ✓ 2023     7        11\n",
      "2023-08-06   Cereal Killer   11c    ✓ 2023     8        11\n",
      "2023-08-11     Prime Climb   11b    ✓ 2023     8        11\n",
      "2023-08-11 Buried Treasure   11b    ✓ 2023     8        11\n",
      "2023-08-11        Mamba P1   11a    ✓ 2023     8        11\n",
      "2023-08-27       Sky Pilot   11b    ✓ 2023     8        11\n",
      "2023-09-01      Retrospade   11d    ✓ 2023     9        11\n",
      "2023-09-01      Retrospade   11d      2023     9        11\n",
      "2023-09-01   Sally's Alley   11c    ✓ 2023     9        11\n",
      "2023-09-17   Sally's Alley   11c    ✓ 2023     9        11\n",
      "2023-09-17 Buried Treasure   11b      2023     9        11\n",
      "2023-09-20       Tropicana   11a    ✓ 2023     9        11\n",
      "2023-09-24   Sally's Alley   11c    ✓ 2023     9        11\n",
      "2023-09-26   Sally's Alley   11c    ✓ 2023     9        11\n",
      "2023-09-29   Sally's Alley   11c    ✓ 2023     9        11\n",
      "2023-10-09       Tropicana   11a    ✓ 2023    10        11\n",
      "2023-10-09   Sally's Alley   11c    ✓ 2023    10        11\n",
      "2023-10-13     Black Mamba   11c      2023    10        11\n",
      "2023-10-15     Black Mamba   11c    ✓ 2023    10        11\n",
      "2023-10-15     Prime Climb   11b    ✓ 2023    10        11\n",
      "2023-10-18 Buried Treasure   11b    ✓ 2023    10        11\n",
      "2023-10-18   Sally's Alley   11c    ✓ 2023    10        11\n",
      "2023-10-19     Black Mamba   11c      2023    10        11\n",
      "2023-10-27   Sally's Alley   11c    ✓ 2023    10        11\n",
      "2023-11-05   Sally's Alley   11c    ✓ 2023    11        11\n"
     ]
    }
   ],
   "source": [
    "# 2023 WRIST injury\n",
    "print_climbs(climbs11, \"2023-01-01\", \"2023-12-31\")"
   ]
  },
  {
   "cell_type": "code",
   "execution_count": null,
   "metadata": {},
   "outputs": [],
   "source": []
  },
  {
   "cell_type": "code",
   "execution_count": 19,
   "metadata": {},
   "outputs": [
    {
     "name": "stdout",
     "output_type": "stream",
     "text": [
      "11\n",
      "   date         name      grade send year month grade_num\n",
      "---------- -------------- ----- ---- ---- ----- ---------\n",
      "2024-04-09  Cereal Killer   11c    ✓ 2024     4        11\n",
      "2024-04-17      Sky Pilot   11b    ✓ 2024     4        11\n",
      "2024-04-17 License to Ill   11a    ✓ 2024     4        11\n",
      "2024-04-21  Cereal Killer   11c    ✓ 2024     4        11\n",
      "2024-04-23    White Rhino   11c    ✓ 2024     4        11\n",
      "2024-04-30      Sky Pilot   11b    ✓ 2024     4        11\n",
      "2024-04-30 License to Ill   11a    ✓ 2024     4        11\n",
      "2024-05-03    White Rhino   11c    ✓ 2024     5        11\n",
      "2024-05-25  Sally's Alley   11c    ✓ 2024     5        11\n",
      "2024-06-01  Sally's Alley   11c    ✓ 2024     6        11\n",
      "2024-06-01      Tropicana   11a    ✓ 2024     6        11\n"
     ]
    }
   ],
   "source": [
    "print_climbs(climbs11, \"2024-01-01\", \"2024-06-31\")"
   ]
  },
  {
   "cell_type": "code",
   "execution_count": 20,
   "metadata": {},
   "outputs": [],
   "source": [
    "import collections\n",
    "\n",
    "climb_counts = collections.defaultdict(int)"
   ]
  },
  {
   "cell_type": "code",
   "execution_count": 21,
   "metadata": {},
   "outputs": [],
   "source": [
    "cgs = climbs[climbs[\"climber\"] == \"TA\"].group_by([\"year\", \"month\", \"grade_num\"])\n",
    "for cg in cgs.groups:\n",
    "    key = (cg[\"year\"][0], cg[\"month\"][0], cg[\"grade_num\"][0])\n",
    "    climb_counts[key] = len(cg)"
   ]
  },
  {
   "cell_type": "code",
   "execution_count": 22,
   "metadata": {},
   "outputs": [
    {
     "data": {
      "text/plain": [
       "0"
      ]
     },
     "execution_count": 22,
     "metadata": {},
     "output_type": "execute_result"
    }
   ],
   "source": [
    "int()"
   ]
  },
  {
   "cell_type": "code",
   "execution_count": 23,
   "metadata": {},
   "outputs": [],
   "source": [
    "def filter_climbs(climbs, climber, grade_min, grade_max):\n",
    "    ok = np.ones(len(climbs), dtype=bool)\n",
    "    if climber:\n",
    "        ok &= climbs[\"climber\"] == climber\n",
    "    if grade_min:\n",
    "        ok &= climbs[\"grade\"] >= grade_min\n",
    "    if grade_max:\n",
    "        ok &= climbs[\"grade\"] < grade_max\n",
    "    climbs = climbs[ok]\n",
    "    return climbs"
   ]
  },
  {
   "cell_type": "code",
   "execution_count": 24,
   "metadata": {},
   "outputs": [],
   "source": [
    "# data from https://allisonhorst.github.io/palmerpenguins/\n",
    "\n",
    "\n",
    "def grouped_bar_chart(\n",
    "    climbs, climber=None, grade_min=None, grade_max=None, func=len, title=\"Climb counts\"\n",
    "):\n",
    "    months = list(range(1, 13))\n",
    "    month_names = [calendar.month_abbr[ii] for ii in months]\n",
    "    years = sorted(set(climbs[\"year\"]))\n",
    "\n",
    "    climbs = filter_climbs(climbs, climber, grade_min, grade_max)\n",
    "\n",
    "    climb_counts = collections.defaultdict(int)\n",
    "    climbs_grouped = climbs.group_by([\"year\", \"month\"])\n",
    "    for cg in climbs_grouped.groups:\n",
    "        key = (cg[\"year\"][0], cg[\"month\"][0])\n",
    "        climb_counts[key] = func(cg)\n",
    "\n",
    "    climbs_by_month = {}\n",
    "    for year in years:\n",
    "        climbs_by_month[year] = [climb_counts[year, month] for month in months]\n",
    "\n",
    "    x = np.arange(len(months))  # the label locations\n",
    "    width = 0.15  # the width of the bars\n",
    "    multiplier = 0\n",
    "\n",
    "    fig, ax = plt.subplots(layout=\"constrained\")\n",
    "\n",
    "    for year, climb_by_month in climbs_by_month.items():\n",
    "        offset = width * multiplier\n",
    "        label = f\"{year}: {sum(climb_by_month)}\"\n",
    "        ax.bar(x + offset, climb_by_month, width, label=label)\n",
    "        multiplier += 1\n",
    "\n",
    "    # Add some text for labels, title and custom x-axis tick labels, etc.\n",
    "    title_words = [title, \"by month\"]\n",
    "    if climber:\n",
    "        title_words.append(f\"by {climber}\")\n",
    "    match grade_min, grade_max:\n",
    "        case None, None:\n",
    "            pass\n",
    "        case None, _:\n",
    "            title_words.append(f\"easier than {grade_max}\")\n",
    "        case _, None:\n",
    "            title_words.append(f\"harder than {grade_min}\")\n",
    "        case _, _:\n",
    "            title_words.append(f\"from {grade_min} to < {grade_max}\")\n",
    "\n",
    "    ax.set_ylabel(\"Number\")\n",
    "    ax.set_title(\" \".join(title_words))\n",
    "    ax.set_xticks(x + width, month_names)\n",
    "    ax.legend(loc=\"upper left\")\n",
    "    # ax.set_ylim(0, 250)\n",
    "\n",
    "    plt.show()"
   ]
  },
  {
   "cell_type": "code",
   "execution_count": 25,
   "metadata": {},
   "outputs": [],
   "source": [
    "def count_days(climbs):\n",
    "    return len(set(climbs[\"date\"]))"
   ]
  },
  {
   "cell_type": "code",
   "execution_count": 26,
   "metadata": {},
   "outputs": [
    {
     "data": {
      "image/png": "[encoded data removed]",
      "text/plain": [
       "<Figure size 640x480 with 1 Axes>"
      ]
     },
     "metadata": {},
     "output_type": "display_data"
    }
   ],
   "source": [
    "grouped_bar_chart(climbs, func=count_days, title=\"Days outside climbing\")"
   ]
  },
  {
   "cell_type": "code",
   "execution_count": 28,
   "metadata": {},
   "outputs": [
    {
     "data": {
      "image/png": "[encoded data removed]",
      "text/plain": [
       "<Figure size 640x480 with 1 Axes>"
      ]
     },
     "metadata": {},
     "output_type": "display_data"
    }
   ],
   "source": [
    "grouped_bar_chart(climbs, climber=\"TA\", grade_min=\"12a\")"
   ]
  },
  {
   "cell_type": "code",
   "execution_count": 29,
   "metadata": {},
   "outputs": [
    {
     "data": {
      "image/png": "[encoded data removed]",
      "text/plain": [
       "<Figure size 640x480 with 1 Axes>"
      ]
     },
     "metadata": {},
     "output_type": "display_data"
    }
   ],
   "source": [
    "grouped_bar_chart(climbs, climber=\"AS\", grade_min=\"12a\")"
   ]
  },
  {
   "cell_type": "code",
   "execution_count": 30,
   "metadata": {},
   "outputs": [
    {
     "data": {
      "image/png": "[encoded data removed]",
      "text/plain": [
       "<Figure size 640x480 with 1 Axes>"
      ]
     },
     "metadata": {},
     "output_type": "display_data"
    }
   ],
   "source": [
    "grouped_bar_chart(climbs, climber=\"AS\", grade_min=\"11a\", grade_max=\"12a\")"
   ]
  },
  {
   "cell_type": "code",
   "execution_count": 31,
   "metadata": {},
   "outputs": [
    {
     "data": {
      "text/plain": [
       "False"
      ]
     },
     "execution_count": 31,
     "metadata": {},
     "output_type": "execute_result"
    }
   ],
   "source": [
    "Grade(\"5.11\") == Grade(\"11a/b\")"
   ]
  },
  {
   "cell_type": "code",
   "execution_count": null,
   "metadata": {},
   "outputs": [],
   "source": []
  }
 ],
 "metadata": {
  "kernelspec": {
   "display_name": "Python 3",
   "language": "python",
   "name": "python3"
  },
  "language_info": {
   "codemirror_mode": {
    "name": "ipython",
    "version": 3
   },
   "file_extension": ".py",
   "mimetype": "text/x-python",
   "name": "python",
   "nbconvert_exporter": "python",
   "pygments_lexer": "ipython3",
   "version": "3.12.3"
  }
 },
 "nbformat": 4,
 "nbformat_minor": 2
}
