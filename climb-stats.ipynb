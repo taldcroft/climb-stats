{
 "cells": [
  {
   "cell_type": "markdown",
   "metadata": {},
   "source": [
    "# Analysis of climbing data"
   ]
  },
  {
   "cell_type": "code",
   "execution_count": 1,
   "metadata": {},
   "outputs": [],
   "source": [
    "import calendar\n",
    "import collections\n",
    "import shelve\n",
    "from pprint import pprint\n",
    "\n",
    "import matplotlib.pyplot as plt\n",
    "import numpy as np\n",
    "from astropy.table import Table\n",
    "\n",
    "import core"
   ]
  },
  {
   "cell_type": "code",
   "execution_count": 2,
   "metadata": {},
   "outputs": [],
   "source": [
    "with shelve.open(\"climbing_days\") as data:\n",
    "    climbing_days: dict[str, core.ClimbingDay] = dict(data)"
   ]
  },
  {
   "cell_type": "code",
   "execution_count": 3,
   "metadata": {},
   "outputs": [
    {
     "data": {
      "text/plain": [
       "['2021-04-07',\n",
       " '2021-04-09',\n",
       " '2021-04-24',\n",
       " '2021-05-07',\n",
       " '2021-05-08',\n",
       " '2021-05-09',\n",
       " '2021-05-13',\n",
       " '2021-05-14',\n",
       " '2021-05-24',\n",
       " '2021-06-05']"
      ]
     },
     "execution_count": 3,
     "metadata": {},
     "output_type": "execute_result"
    }
   ],
   "source": [
    "sorted(climbing_days.keys())[:10]"
   ]
  },
  {
   "cell_type": "code",
   "execution_count": 4,
   "metadata": {},
   "outputs": [],
   "source": [
    "climbing_day = climbing_days[\"2024-04-09\"]"
   ]
  },
  {
   "cell_type": "code",
   "execution_count": 5,
   "metadata": {},
   "outputs": [
    {
     "data": {
      "text/plain": [
       "core.ClimbingDay"
      ]
     },
     "execution_count": 5,
     "metadata": {},
     "output_type": "execute_result"
    }
   ],
   "source": [
    "type(climbing_day)"
   ]
  },
  {
   "cell_type": "code",
   "execution_count": 6,
   "metadata": {},
   "outputs": [
    {
     "name": "stdout",
     "output_type": "stream",
     "text": [
      "ClimbEntry(name_approx='Restless Native',\n",
      "           comment='TA, first try in many years, stopped at low crux not very '\n",
      "                   'close, beta all wrong',\n",
      "           climbers=['TA', 'AS'],\n",
      "           climb_info=ClimbInfo(name='Restless Native',\n",
      "                                grade='12c',\n",
      "                                aliases=['Restless Native']),\n",
      "           climb_events=[ClimbEvent(climber='TA', hang=True)],\n",
      "           idx_entry_start=48)\n"
     ]
    }
   ],
   "source": [
    "pprint(climbing_days[\"2024-05-18\"].climb_entries[-1])"
   ]
  },
  {
   "cell_type": "code",
   "execution_count": 7,
   "metadata": {},
   "outputs": [
    {
     "data": {
      "text/plain": [
       "ClimbEvent(climber='TA', hang=True)"
      ]
     },
     "execution_count": 7,
     "metadata": {},
     "output_type": "execute_result"
    }
   ],
   "source": [
    "climbing_days[\"2024-05-18\"].climb_entries[-1].climb_events[0]"
   ]
  },
  {
   "cell_type": "code",
   "execution_count": 8,
   "metadata": {},
   "outputs": [],
   "source": [
    "import re\n",
    "from functools import cached_property\n",
    "\n",
    "\n",
    "class Grade:\n",
    "    def __init__(self, grade):\n",
    "        if isinstance(grade, str):\n",
    "            self.grade = grade\n",
    "        elif hasattr(grade, \"grade\") and isinstance(grade.grade, str):\n",
    "            self.grade = grade.grade\n",
    "        else:\n",
    "            raise ValueError(f\"Cannot convert {grade} to Grade object.\")\n",
    "\n",
    "    @cached_property\n",
    "    def number_mod(self) -> tuple[int, str]:\n",
    "        \"\"\"Convert grade like 12a/b to (12, \"a/b\") and 12+ to (12, \"c/d\").\n",
    "\n",
    "        This allows for easy comparison of grades.\n",
    "        \"\"\"\n",
    "        grade_str = self.grade\n",
    "        if grade_str.startswith(\"5.\"):\n",
    "            grade_str = grade_str[2:]\n",
    "        number, modifier = re.match(r\"(\\d+)([^\\d]*)\", grade_str).groups()\n",
    "        number = int(number)\n",
    "        if modifier == \"-\":\n",
    "            modifier = \"a/b\"\n",
    "        if modifier == \"+\":\n",
    "            modifier = \"c/d\"\n",
    "        return number, modifier\n",
    "\n",
    "    def __repr__(self):\n",
    "        return self.grade\n",
    "\n",
    "    def __hash__(self):\n",
    "        return hash(self.grade)\n",
    "\n",
    "    def __eq__(self, other):\n",
    "        return self.number_mod == Grade(other).number_mod\n",
    "\n",
    "    def __ne__(self, other):\n",
    "        return not self == other\n",
    "\n",
    "    def __le__(self, other):\n",
    "        return self.number_mod <= Grade(other).number_mod\n",
    "\n",
    "    def __gt__(self, other):\n",
    "        return not self <= other\n",
    "\n",
    "    def __lt__(self, other):\n",
    "        return self.number_mod < Grade(other).number_mod\n",
    "\n",
    "    def __ge__(self, other):\n",
    "        return not self < other"
   ]
  },
  {
   "cell_type": "code",
   "execution_count": 9,
   "metadata": {},
   "outputs": [
    {
     "name": "stdout",
     "output_type": "stream",
     "text": [
      "5.10-\n",
      "g1 < \"12a\" True\n",
      "\"12a\" < g1 False\n",
      "\"9+\" < g1 True\n",
      "\"9+\" < \"9-\" True\n",
      "Grade(\"9+\") < \"9-\" False\n"
     ]
    }
   ],
   "source": [
    "g1 = Grade(\"5.10-\")\n",
    "print(g1)\n",
    "g2 = Grade(\"5.10b\")\n",
    "print('g1 < \"12a\"', g1 < \"12a\")\n",
    "print('\"12a\" < g1', \"12a\" < g1)\n",
    "print('\"9+\" < g1', \"9+\" < g1)\n",
    "print('\"9+\" < \"9-\"', \"9+\" < \"9-\")\n",
    "print('Grade(\"9+\") < \"9-\"', Grade(\"9+\") < \"9-\")"
   ]
  },
  {
   "cell_type": "code",
   "execution_count": 10,
   "metadata": {},
   "outputs": [],
   "source": [
    "def get_climbs_table(climbing_days: dict[str, core.ClimbingDay]) -> Table:\n",
    "    \"\"\"Flatten climbing days hierarchical data structure to an astropy table.\"\"\"\n",
    "    rows = []\n",
    "    for date in climbing_days:\n",
    "        for entry in climbing_days[date].climb_entries:\n",
    "            for event in entry.climb_events:\n",
    "                rows.append(\n",
    "                    (\n",
    "                        date,\n",
    "                        entry.climb_info.name,\n",
    "                        Grade(entry.climb_info.grade),\n",
    "                        event.climber,\n",
    "                        \"\" if event.hang else \"✓\",\n",
    "                    )\n",
    "                )\n",
    "    climbs = Table(rows=rows, names=(\"date\", \"name\", \"grade\", \"climber\", \"send\"))\n",
    "    climbs.sort(\"date\")\n",
    "    climbs[\"year\"] = np.array([int(date.split(\"-\")[0]) for date in climbs[\"date\"]])\n",
    "    climbs[\"month\"] = np.array([int(date.split(\"-\")[1]) for date in climbs[\"date\"]])\n",
    "    climbs[\"grade_num\"] = np.array([grade.number_mod[0] for grade in climbs[\"grade\"]])\n",
    "\n",
    "    return climbs"
   ]
  },
  {
   "cell_type": "code",
   "execution_count": 11,
   "metadata": {},
   "outputs": [],
   "source": [
    "climbs = get_climbs_table(climbing_days)"
   ]
  },
  {
   "cell_type": "code",
   "execution_count": 12,
   "metadata": {},
   "outputs": [
    {
     "data": {
      "text/html": [
       "<div><i>Table length=1315</i>\n",
       "<table id=\"table5141058272\" class=\"table-striped table-bordered table-condensed\">\n",
       "<thead><tr><th>date</th><th>name</th><th>grade</th><th>climber</th><th>send</th><th>year</th><th>month</th><th>grade_num</th></tr></thead>\n",
       "<thead><tr><th>str10</th><th>str24</th><th>object</th><th>str2</th><th>str1</th><th>int64</th><th>int64</th><th>int64</th></tr></thead>\n",
       "<tr><td>2021-04-07</td><td>Holderness Arete</td><td>10b</td><td>TA</td><td>✓</td><td>2021</td><td>4</td><td>10</td></tr>\n",
       "<tr><td>2021-04-07</td><td>Idiot Deluxe</td><td>10c</td><td>AS</td><td>✓</td><td>2021</td><td>4</td><td>10</td></tr>\n",
       "<tr><td>2021-04-07</td><td>Idiot Deluxe</td><td>10c</td><td>TA</td><td>✓</td><td>2021</td><td>4</td><td>10</td></tr>\n",
       "<tr><td>2021-04-07</td><td>Holderness Arete</td><td>10b</td><td>AS</td><td>✓</td><td>2021</td><td>4</td><td>10</td></tr>\n",
       "<tr><td>2021-04-09</td><td>Masterpiece</td><td>10a</td><td>TA</td><td>✓</td><td>2021</td><td>4</td><td>10</td></tr>\n",
       "<tr><td>2021-04-09</td><td>Metamorphosis</td><td>8</td><td>AS</td><td>✓</td><td>2021</td><td>4</td><td>8</td></tr>\n",
       "<tr><td>2021-04-09</td><td>Men in White Suits</td><td>9</td><td>TA</td><td>✓</td><td>2021</td><td>4</td><td>9</td></tr>\n",
       "<tr><td>2021-04-09</td><td>Men in White Suits</td><td>9</td><td>AS</td><td>✓</td><td>2021</td><td>4</td><td>9</td></tr>\n",
       "<tr><td>2021-04-09</td><td>Masterpiece</td><td>10a</td><td>AS</td><td></td><td>2021</td><td>4</td><td>10</td></tr>\n",
       "<tr><td>2021-04-09</td><td>Metamorphosis</td><td>8</td><td>TA</td><td>✓</td><td>2021</td><td>4</td><td>8</td></tr>\n",
       "<tr><td>...</td><td>...</td><td>...</td><td>...</td><td>...</td><td>...</td><td>...</td><td>...</td></tr>\n",
       "<tr><td>2024-06-01</td><td>Sally&apos;s Alley</td><td>11c</td><td>AS</td><td></td><td>2024</td><td>6</td><td>11</td></tr>\n",
       "<tr><td>2024-06-01</td><td>Black Dog Crack</td><td>10a</td><td>TA</td><td>✓</td><td>2024</td><td>6</td><td>10</td></tr>\n",
       "<tr><td>2024-06-01</td><td>Weevil</td><td>12a</td><td>TA</td><td>✓</td><td>2024</td><td>6</td><td>12</td></tr>\n",
       "<tr><td>2024-06-01</td><td>Vallee Daze</td><td>12a</td><td>TA</td><td></td><td>2024</td><td>6</td><td>12</td></tr>\n",
       "<tr><td>2024-06-01</td><td>10 of Spades</td><td>10c</td><td>AS</td><td></td><td>2024</td><td>6</td><td>10</td></tr>\n",
       "<tr><td>2024-06-01</td><td>10 of Spades</td><td>10c</td><td>TA</td><td>✓</td><td>2024</td><td>6</td><td>10</td></tr>\n",
       "<tr><td>2024-06-01</td><td>Tropicana</td><td>11a</td><td>TA</td><td>✓</td><td>2024</td><td>6</td><td>11</td></tr>\n",
       "<tr><td>2024-06-01</td><td>Tropicana</td><td>11a</td><td>AS</td><td>✓</td><td>2024</td><td>6</td><td>11</td></tr>\n",
       "<tr><td>2024-06-01</td><td>Black Dog Crack</td><td>10a</td><td>AS</td><td>✓</td><td>2024</td><td>6</td><td>10</td></tr>\n",
       "<tr><td>2024-06-01</td><td>Tropicana</td><td>11a</td><td>AS</td><td></td><td>2024</td><td>6</td><td>11</td></tr>\n",
       "</table></div>"
      ],
      "text/plain": [
       "<Table length=1315>\n",
       "   date           name        grade  climber send  year month grade_num\n",
       "  str10          str24        object   str2  str1 int64 int64   int64  \n",
       "---------- ------------------ ------ ------- ---- ----- ----- ---------\n",
       "2021-04-07   Holderness Arete    10b      TA    ✓  2021     4        10\n",
       "2021-04-07       Idiot Deluxe    10c      AS    ✓  2021     4        10\n",
       "2021-04-07       Idiot Deluxe    10c      TA    ✓  2021     4        10\n",
       "2021-04-07   Holderness Arete    10b      AS    ✓  2021     4        10\n",
       "2021-04-09        Masterpiece    10a      TA    ✓  2021     4        10\n",
       "2021-04-09      Metamorphosis      8      AS    ✓  2021     4         8\n",
       "2021-04-09 Men in White Suits      9      TA    ✓  2021     4         9\n",
       "2021-04-09 Men in White Suits      9      AS    ✓  2021     4         9\n",
       "2021-04-09        Masterpiece    10a      AS       2021     4        10\n",
       "2021-04-09      Metamorphosis      8      TA    ✓  2021     4         8\n",
       "       ...                ...    ...     ...  ...   ...   ...       ...\n",
       "2024-06-01      Sally's Alley    11c      AS       2024     6        11\n",
       "2024-06-01    Black Dog Crack    10a      TA    ✓  2024     6        10\n",
       "2024-06-01             Weevil    12a      TA    ✓  2024     6        12\n",
       "2024-06-01        Vallee Daze    12a      TA       2024     6        12\n",
       "2024-06-01       10 of Spades    10c      AS       2024     6        10\n",
       "2024-06-01       10 of Spades    10c      TA    ✓  2024     6        10\n",
       "2024-06-01          Tropicana    11a      TA    ✓  2024     6        11\n",
       "2024-06-01          Tropicana    11a      AS    ✓  2024     6        11\n",
       "2024-06-01    Black Dog Crack    10a      AS    ✓  2024     6        10\n",
       "2024-06-01          Tropicana    11a      AS       2024     6        11"
      ]
     },
     "execution_count": 12,
     "metadata": {},
     "output_type": "execute_result"
    }
   ],
   "source": [
    "climbs"
   ]
  },
  {
   "cell_type": "code",
   "execution_count": null,
   "metadata": {},
   "outputs": [],
   "source": []
  },
  {
   "cell_type": "code",
   "execution_count": 13,
   "metadata": {},
   "outputs": [
    {
     "data": {
      "text/html": [
       "<div><i>Table length=2</i>\n",
       "<table id=\"table5141610960\" class=\"table-striped table-bordered table-condensed\">\n",
       "<thead><tr><th>date</th><th>name</th><th>grade</th><th>climber</th><th>send</th><th>year</th><th>month</th><th>grade_num</th></tr></thead>\n",
       "<thead><tr><th>str10</th><th>str24</th><th>object</th><th>str2</th><th>str1</th><th>int64</th><th>int64</th><th>int64</th></tr></thead>\n",
       "<tr><td>2024-05-18</td><td>Restless Native</td><td>12c</td><td>TA</td><td></td><td>2024</td><td>5</td><td>12</td></tr>\n",
       "<tr><td>2024-05-31</td><td>Restless Native</td><td>12c</td><td>TA</td><td></td><td>2024</td><td>5</td><td>12</td></tr>\n",
       "</table></div>"
      ],
      "text/plain": [
       "<Table length=2>\n",
       "   date          name      grade  climber send  year month grade_num\n",
       "  str10         str24      object   str2  str1 int64 int64   int64  \n",
       "---------- --------------- ------ ------- ---- ----- ----- ---------\n",
       "2024-05-18 Restless Native    12c      TA       2024     5        12\n",
       "2024-05-31 Restless Native    12c      TA       2024     5        12"
      ]
     },
     "execution_count": 13,
     "metadata": {},
     "output_type": "execute_result"
    }
   ],
   "source": [
    "climbs[climbs[\"name\"] == \"Restless Native\"]"
   ]
  },
  {
   "cell_type": "code",
   "execution_count": 14,
   "metadata": {},
   "outputs": [],
   "source": [
    "def filter_climbs(\n",
    "    climbs: list[core.ClimbingDay],\n",
    "    climber: str | None,\n",
    "    grade_min: str | None = None,\n",
    "    grade_max: str | Grade | None = None,\n",
    "    start: str | None = None,\n",
    "    stop: str | None = None,\n",
    "):\n",
    "    ok = np.ones(len(climbs), dtype=bool)\n",
    "    if climber:\n",
    "        ok &= climbs[\"climber\"] == climber\n",
    "    if grade_min:\n",
    "        ok &= climbs[\"grade\"] >= grade_min\n",
    "    if grade_max:\n",
    "        ok &= climbs[\"grade\"] < grade_max\n",
    "    if start:\n",
    "        ok &= climbs[\"date\"] >= start\n",
    "    if stop:\n",
    "        ok &= climbs[\"date\"] < stop\n",
    "    climbs = climbs[ok]\n",
    "    return climbs"
   ]
  },
  {
   "cell_type": "code",
   "execution_count": 15,
   "metadata": {},
   "outputs": [
    {
     "data": {
      "text/html": [
       "<div><i>Table length=5</i>\n",
       "<table id=\"table5141774848\" class=\"table-striped table-bordered table-condensed\">\n",
       "<thead><tr><th>date</th><th>name</th><th>grade</th><th>climber</th><th>send</th><th>year</th><th>month</th><th>grade_num</th></tr></thead>\n",
       "<thead><tr><th>str10</th><th>str24</th><th>object</th><th>str2</th><th>str1</th><th>int64</th><th>int64</th><th>int64</th></tr></thead>\n",
       "<tr><td>2023-04-15</td><td>Pump up the Volume</td><td>12b</td><td>TA</td><td></td><td>2023</td><td>4</td><td>12</td></tr>\n",
       "<tr><td>2023-04-15</td><td>Orangahang</td><td>12a</td><td>TA</td><td>✓</td><td>2023</td><td>4</td><td>12</td></tr>\n",
       "<tr><td>2023-04-15</td><td>Orangahang</td><td>12a</td><td>TA</td><td></td><td>2023</td><td>4</td><td>12</td></tr>\n",
       "<tr><td>2023-04-15</td><td>Social Outcast</td><td>12a</td><td>TA</td><td></td><td>2023</td><td>4</td><td>12</td></tr>\n",
       "<tr><td>2023-04-21</td><td>Social Outcast</td><td>12a</td><td>TA</td><td>✓</td><td>2023</td><td>4</td><td>12</td></tr>\n",
       "</table></div>"
      ],
      "text/plain": [
       "<Table length=5>\n",
       "   date           name        grade  climber send  year month grade_num\n",
       "  str10          str24        object   str2  str1 int64 int64   int64  \n",
       "---------- ------------------ ------ ------- ---- ----- ----- ---------\n",
       "2023-04-15 Pump up the Volume    12b      TA       2023     4        12\n",
       "2023-04-15         Orangahang    12a      TA    ✓  2023     4        12\n",
       "2023-04-15         Orangahang    12a      TA       2023     4        12\n",
       "2023-04-15     Social Outcast    12a      TA       2023     4        12\n",
       "2023-04-21     Social Outcast    12a      TA    ✓  2023     4        12"
      ]
     },
     "execution_count": 15,
     "metadata": {},
     "output_type": "execute_result"
    }
   ],
   "source": [
    "filter_climbs(\n",
    "    climbs, climber=\"TA\", grade_min=\"5.12a\", start=\"2023-04-01\", stop=\"2023-06-01\"\n",
    ")"
   ]
  },
  {
   "cell_type": "code",
   "execution_count": 16,
   "metadata": {},
   "outputs": [],
   "source": [
    "# data from https://allisonhorst.github.io/palmerpenguins/\n",
    "\n",
    "\n",
    "def grouped_bar_chart(\n",
    "    climbs, climber=None, grade_min=None, grade_max=None, func=len, title=\"Climb counts\"\n",
    "):\n",
    "    months = list(range(1, 13))\n",
    "    month_names = [calendar.month_abbr[ii] for ii in months]\n",
    "    years = sorted(set(climbs[\"year\"]))\n",
    "\n",
    "    climbs = filter_climbs(climbs, climber, grade_min, grade_max)\n",
    "\n",
    "    climb_counts = collections.defaultdict(int)\n",
    "    climbs_grouped = climbs.group_by([\"year\", \"month\"])\n",
    "    for cg in climbs_grouped.groups:\n",
    "        key = (cg[\"year\"][0], cg[\"month\"][0])\n",
    "        climb_counts[key] = func(cg)\n",
    "\n",
    "    climbs_by_month = {}\n",
    "    for year in years:\n",
    "        climbs_by_month[year] = [climb_counts[year, month] for month in months]\n",
    "\n",
    "    x = np.arange(len(months))  # the label locations\n",
    "    width = 0.15  # the width of the bars\n",
    "    multiplier = 0\n",
    "\n",
    "    fig, ax = plt.subplots(layout=\"constrained\")\n",
    "\n",
    "    for year, climb_by_month in climbs_by_month.items():\n",
    "        offset = width * multiplier\n",
    "        label = f\"{year}: {sum(climb_by_month)}\"\n",
    "        ax.bar(x + offset, climb_by_month, width, label=label)\n",
    "        multiplier += 1\n",
    "\n",
    "    # Add some text for labels, title and custom x-axis tick labels, etc.\n",
    "    title_words = [title, \"by month\"]\n",
    "    if climber:\n",
    "        title_words.append(f\"by {climber}\")\n",
    "    match grade_min, grade_max:\n",
    "        case None, None:\n",
    "            pass\n",
    "        case None, _:\n",
    "            title_words.append(f\"easier than {grade_max}\")\n",
    "        case _, None:\n",
    "            title_words.append(f\"harder than {grade_min}\")\n",
    "        case _, _:\n",
    "            title_words.append(f\"from {grade_min} to < {grade_max}\")\n",
    "\n",
    "    ax.set_ylabel(\"Number\")\n",
    "    ax.set_title(\" \".join(title_words))\n",
    "    ax.set_xticks(x + width, month_names)\n",
    "    ax.legend(loc=\"upper left\")\n",
    "    # ax.set_ylim(0, 250)\n",
    "\n",
    "    plt.show()"
   ]
  },
  {
   "cell_type": "code",
   "execution_count": 17,
   "metadata": {},
   "outputs": [],
   "source": [
    "def count_days(climbs):\n",
    "    return len(set(climbs[\"date\"]))"
   ]
  },
  {
   "cell_type": "code",
   "execution_count": 18,
   "metadata": {},
   "outputs": [
    {
     "data": {
      "image/png": "[encoded data removed]",
      "text/plain": [
       "<Figure size 640x480 with 1 Axes>"
      ]
     },
     "metadata": {},
     "output_type": "display_data"
    }
   ],
   "source": [
    "grouped_bar_chart(climbs, func=count_days, title=\"Days outside climbing\")"
   ]
  },
  {
   "cell_type": "code",
   "execution_count": 19,
   "metadata": {},
   "outputs": [
    {
     "data": {
      "image/png": "[encoded data removed]",
      "text/plain": [
       "<Figure size 640x480 with 1 Axes>"
      ]
     },
     "metadata": {},
     "output_type": "display_data"
    }
   ],
   "source": [
    "grouped_bar_chart(climbs, climber=\"TA\", grade_min=\"12a\")"
   ]
  }
 ],
 "metadata": {
  "kernelspec": {
   "display_name": "Python 3",
   "language": "python",
   "name": "python3"
  },
  "language_info": {
   "codemirror_mode": {
    "name": "ipython",
    "version": 3
   },
   "file_extension": ".py",
   "mimetype": "text/x-python",
   "name": "python",
   "nbconvert_exporter": "python",
   "pygments_lexer": "ipython3",
   "version": "3.12.3"
  }
 },
 "nbformat": 4,
 "nbformat_minor": 2
}
